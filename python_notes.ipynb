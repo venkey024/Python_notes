{
  "nbformat": 4,
  "nbformat_minor": 0,
  "metadata": {
    "colab": {
      "provenance": [],
      "authorship_tag": "ABX9TyPp51DmBDCg/DizsISTSvM/",
      "include_colab_link": true
    },
    "kernelspec": {
      "name": "python3",
      "display_name": "Python 3"
    },
    "language_info": {
      "name": "python"
    }
  },
  "cells": [
    {
      "cell_type": "markdown",
      "metadata": {
        "id": "view-in-github",
        "colab_type": "text"
      },
      "source": [
        "<a href=\"https://colab.research.google.com/github/venkey024/Python_notes/blob/main/python_notes.ipynb\" target=\"_parent\"><img src=\"https://colab.research.google.com/assets/colab-badge.svg\" alt=\"Open In Colab\"/></a>"
      ]
    },
    {
      "cell_type": "markdown",
      "source": [
        " What is Python"
      ],
      "metadata": {
        "id": "2n0hDxM6Kb45"
      }
    },
    {
      "cell_type": "code",
      "source": [
        "# -- >Single line programming\n",
        "#1. What is Python?\n",
        "'''A. High-level Programming Language\n",
        "B. General purpose\n",
        "c. Object oriented programmin language\n",
        "Python is case sensitive\n",
        "d. dynamically typed'''"
      ],
      "metadata": {
        "id": "s-wQR5fIKf99"
      },
      "execution_count": null,
      "outputs": []
    },
    {
      "cell_type": "code",
      "source": [
        "#why we require commenting?\n",
        "#to understand the code better purpose"
      ],
      "metadata": {
        "id": "k5zLnLiOLl26"
      },
      "execution_count": null,
      "outputs": []
    },
    {
      "cell_type": "code",
      "source": [
        "#1st programming in python\n",
        "#print \"hello world!\" in python?\n",
        "# i am using print() to display my output\n",
        "print(\"Hello world!\")"
      ],
      "metadata": {
        "id": "Aq-rAFWaLoTQ"
      },
      "execution_count": null,
      "outputs": []
    },
    {
      "cell_type": "code",
      "source": [
        "#Numerical data types in Python\n",
        "#there 3 types numerical data types\n",
        "#1.integer:\n",
        "\"\"\" A whole number without any decimal points either -ve or +ve\"\"\"\n",
        "print(5)\n",
        "#test weather it is a integer or not\n",
        "#to test the data type we are using \"type()\"\n",
        "print(type(5))\n",
        "#2.float:\n",
        "#3.complex number:"
      ],
      "metadata": {
        "id": "NUoVekbXLoP3"
      },
      "execution_count": null,
      "outputs": []
    },
    {
      "cell_type": "code",
      "source": [
        "#2.float: A number having decimal pont either +ve or -ve\n",
        "print(2.5346)\n",
        "print(type(2.5346))\n",
        "print(2.0)\n",
        "print(type(2.0))"
      ],
      "metadata": {
        "id": "dswALPrFLoNK"
      },
      "execution_count": null,
      "outputs": []
    },
    {
      "cell_type": "code",
      "source": [
        "#complex number:- A real number with its imaginary part.\n",
        "print(3+2j)\n",
        "print(4+6j)\n",
        "print(type(4+6j))\n",
        "#what is the real part and what is the imaginary part?\n",
        "# 4---> is the real part & 6j is imaginary part"
      ],
      "metadata": {
        "id": "936BaAacLoKI"
      },
      "execution_count": null,
      "outputs": []
    },
    {
      "cell_type": "code",
      "source": [
        "#2 types of erros are\n",
        "#syntax error\n",
        "#Logical error"
      ],
      "metadata": {
        "id": "cbDogw-hLoHA"
      },
      "execution_count": null,
      "outputs": []
    },
    {
      "cell_type": "code",
      "source": [
        "#what is syntex error?\n",
        "# if you break rules of programming language then you will rise syntax error\n",
        "\"\"\" hi i am,\n",
        "   i am learning basics of python\n",
        "   i am comminting it with multilne comments'''"
      ],
      "metadata": {
        "id": "6pj68SZfLoDu"
      },
      "execution_count": null,
      "outputs": []
    },
    {
      "cell_type": "code",
      "source": [
        "#Logical error\n",
        "#None other than syntax error all erros will be logical errors\n",
        "#ex:- index error, name error, recurssive error..etc"
      ],
      "metadata": {
        "id": "VZt7_NEBLoAo"
      },
      "execution_count": null,
      "outputs": []
    },
    {
      "cell_type": "code",
      "source": [
        "#we are having 7 arthamatic operators\n",
        "#1.Addition-->  \"+\"\n",
        "print(10 + 5)\n",
        "print(type(10.5 + 5))\n",
        "\n",
        "#2.Substarction ---> \"-\"\n",
        "print(10 - 5)\n",
        "print(type(10 - 5))\n",
        "#3.Multiplication ----> *\n",
        "print(10 * 5)\n",
        "print(type(10 * 5))\n",
        "#4.Division\n",
        "print(10 / 5)\n",
        "print(type(10 / 5))\n",
        "#5.Exponenitial\n",
        "#6.Floor Division\n",
        "#7. Modulus"
      ],
      "metadata": {
        "id": "Dav58grFLn9J"
      },
      "execution_count": null,
      "outputs": []
    },
    {
      "cell_type": "code",
      "source": [
        "#5.Exponenitial---> ** -->to the power of\n",
        "print(5 ** 10)\n",
        "print(type(5 ** 10))\n",
        "\n",
        "#6.Floor Division ---> // -->ignores all the values after decimal point\n",
        "print(10 // 3)\n",
        "print(type(10 // 3))\n",
        "\n",
        "#7. Modulus ---> %\n",
        "print(10 % 5)\n",
        "print(type(10 % 5))\n",
        "\n",
        "\n"
      ],
      "metadata": {
        "id": "YnJ1qtg-Ln5z"
      },
      "execution_count": null,
      "outputs": []
    },
    {
      "cell_type": "markdown",
      "source": [
        "round()"
      ],
      "metadata": {
        "id": "2qyRMkRFMLmK"
      }
    },
    {
      "cell_type": "code",
      "source": [
        "import math\n",
        "print(math.ceil(2.952))"
      ],
      "metadata": {
        "id": "4G4OMqH2MOcn",
        "colab": {
          "base_uri": "https://localhost:8080/"
        },
        "outputId": "82a08d9d-1592-46b9-965d-aebfef342295"
      },
      "execution_count": null,
      "outputs": [
        {
          "output_type": "stream",
          "name": "stdout",
          "text": [
            "3\n"
          ]
        }
      ]
    },
    {
      "cell_type": "code",
      "source": [
        "#print(2.3456) print first 2 decimals?\n",
        "print(round(2.3456,2))"
      ],
      "metadata": {
        "id": "-xIlBAejMOZR",
        "colab": {
          "base_uri": "https://localhost:8080/"
        },
        "outputId": "25916b9b-57c9-4f88-b478-fa30b259a95f"
      },
      "execution_count": null,
      "outputs": [
        {
          "output_type": "stream",
          "name": "stdout",
          "text": [
            "2.35\n"
          ]
        }
      ]
    },
    {
      "cell_type": "code",
      "source": [
        "\n",
        "\n",
        "print(type(10.5 + 5))\n",
        "print(10 - 5)\n",
        "print(type(10 - 5))\n",
        "print(10 * 5)\n",
        "print(type(10 * 5))\n",
        "print(10 / 5)\n",
        "print(type(10 / 5))"
      ],
      "metadata": {
        "id": "a0eL4yF1MOWA",
        "colab": {
          "base_uri": "https://localhost:8080/"
        },
        "outputId": "8a066fa1-1d9f-422c-cfa1-4eda789f8d7b"
      },
      "execution_count": null,
      "outputs": [
        {
          "output_type": "stream",
          "name": "stdout",
          "text": [
            "<class 'float'>\n",
            "5\n",
            "<class 'int'>\n",
            "50\n",
            "<class 'int'>\n",
            "2.0\n",
            "<class 'float'>\n"
          ]
        }
      ]
    },
    {
      "cell_type": "code",
      "source": [
        "#its a container where we can store oura valuable informtion and we can reuse it\n",
        "#How to create an variable?\n",
        "#How to Access an variable?\n",
        "#let the dad age can be x  and son age is,\n",
        "   # half of the das's age x/2"
      ],
      "metadata": {
        "id": "FjZeGjneMOTO"
      },
      "execution_count": null,
      "outputs": []
    },
    {
      "cell_type": "code",
      "source": [
        "x = 40\n",
        "son_age = x/2\n",
        "print(son_age)"
      ],
      "metadata": {
        "id": "HEHKSDvCMOP2",
        "colab": {
          "base_uri": "https://localhost:8080/"
        },
        "outputId": "3e003475-8f29-49cc-b250-1c57917d24c9"
      },
      "execution_count": null,
      "outputs": [
        {
          "output_type": "stream",
          "name": "stdout",
          "text": [
            "20.0\n"
          ]
        }
      ]
    },
    {
      "cell_type": "code",
      "source": [
        "x = 10\n",
        "y = 5\n",
        "print(x + y)\n",
        "print(x - y)"
      ],
      "metadata": {
        "id": "vWmcWw-aMOMv",
        "colab": {
          "base_uri": "https://localhost:8080/"
        },
        "outputId": "33d1472a-d648-4777-ed95-7b9e9f2de456"
      },
      "execution_count": null,
      "outputs": [
        {
          "output_type": "stream",
          "name": "stdout",
          "text": [
            "15\n",
            "5\n"
          ]
        }
      ]
    },
    {
      "cell_type": "code",
      "source": [
        "#what are all the important rules to be followed to write an varibles?\n",
        "'''1. varibles can start with alphabets,\n",
        "  2. varibles cannot start with numbers,\n",
        "  3. if you follow 1 and 2 u can start with letters in between you can use numbers\n",
        "  4.speacial characters cannot except\n",
        "  5.you cannot give spaces in between varaibles\n",
        "  6. keywords cannot be used\n",
        "  7. varibles are case sensitive '''"
      ],
      "metadata": {
        "id": "wtT_6kT0MOKG"
      },
      "execution_count": null,
      "outputs": []
    },
    {
      "cell_type": "code",
      "source": [
        "#What is dynamically typed?-->Dynamic typing means that the type of the variable is determined only during runtime.\n",
        "#what is statistically typed?---> the data type of a variable is known at the compile time which means\n",
        "#                                 the programmer has to specify the data type of a variable at the time of its declaration."
      ],
      "metadata": {
        "id": "l_2glZ1mMOHO"
      },
      "execution_count": null,
      "outputs": []
    },
    {
      "cell_type": "code",
      "source": [
        "#Smart ways of writing a varible?\n",
        "#Assign multiple values to the multiple variables?\n",
        "a,b,c = 1,2,3\n",
        "print(a,b,c)\n",
        "#print the values in separate line?\n",
        "# print(a,\"\\n\",b,\"\\n\",c,\"\\n\")\n",
        "# print(a)\n",
        "# print(b)\n",
        "# print(c)\n",
        "#use \"sep\" to print output in separate line\n",
        "print(a,b,c,sep=\"\\n\")\n"
      ],
      "metadata": {
        "id": "dA5Nbr_3MOEZ",
        "colab": {
          "base_uri": "https://localhost:8080/"
        },
        "outputId": "2c96f92d-3b80-4701-d606-96f56239a460"
      },
      "execution_count": null,
      "outputs": [
        {
          "output_type": "stream",
          "name": "stdout",
          "text": [
            "1 2 3\n",
            "1\n",
            "2\n",
            "3\n"
          ]
        }
      ]
    },
    {
      "cell_type": "code",
      "source": [
        "#how can you assign one value to many varibles?\n",
        "# x = 10\n",
        "# y = 10\n",
        "# z = 10\n",
        "# print(x,y,z)\n",
        "x=y=z=10\n",
        "print(x,y,z,sep=\"\\n\")"
      ],
      "metadata": {
        "id": "XHyKMP_2MOBT",
        "colab": {
          "base_uri": "https://localhost:8080/"
        },
        "outputId": "39c391b1-80b1-442e-8e9d-ddcabede9052"
      },
      "execution_count": null,
      "outputs": [
        {
          "output_type": "stream",
          "name": "stdout",
          "text": [
            "10\n",
            "10\n",
            "10\n"
          ]
        }
      ]
    },
    {
      "cell_type": "markdown",
      "source": [
        "input() -- Function"
      ],
      "metadata": {
        "id": "fDUYJ7a0Mq5D"
      }
    },
    {
      "cell_type": "code",
      "source": [
        "#what is an input function?\n",
        "#How to take an input()?\n",
        "a = input()\n",
        "print(a)\n",
        "#what is the default data type for input function?\n",
        "print(type(a))"
      ],
      "metadata": {
        "id": "YOo5aAeVMN-k",
        "colab": {
          "base_uri": "https://localhost:8080/"
        },
        "outputId": "8b284c2e-62f5-45db-9a8d-0bb6ec533c5d"
      },
      "execution_count": null,
      "outputs": [
        {
          "output_type": "stream",
          "name": "stdout",
          "text": [
            "12\n",
            "12\n",
            "<class 'str'>\n"
          ]
        }
      ]
    },
    {
      "cell_type": "code",
      "source": [
        "b = input(\"enter the number: \")\n",
        "print(b)"
      ],
      "metadata": {
        "id": "ySpcfpRSMN7i",
        "colab": {
          "base_uri": "https://localhost:8080/"
        },
        "outputId": "7afbf84a-60f0-44f7-f81e-66bfb24585ce"
      },
      "execution_count": null,
      "outputs": [
        {
          "output_type": "stream",
          "name": "stdout",
          "text": [
            "enter the number: 23\n",
            "23\n"
          ]
        }
      ]
    },
    {
      "cell_type": "code",
      "source": [
        "#write a program to identify the given number is odd or even?\n",
        "a = 5\n",
        "print(a % 2)"
      ],
      "metadata": {
        "id": "h7-bTevOMN42",
        "colab": {
          "base_uri": "https://localhost:8080/"
        },
        "outputId": "ceb05ce4-7c6c-4698-8a09-03e47bc44bd4"
      },
      "execution_count": null,
      "outputs": [
        {
          "output_type": "stream",
          "name": "stdout",
          "text": [
            "1\n"
          ]
        }
      ]
    },
    {
      "cell_type": "code",
      "source": [
        "#what is a string?\n",
        "#string can be decalred in----(\" \") or (' ')\n",
        "#multiple lines of string--->(''' ''')or (\"\"\" \"\"\")\n",
        "#Collection of multiple characters where each charcter can be accessible"
      ],
      "metadata": {
        "id": "KbEY7t1MMN14"
      },
      "execution_count": null,
      "outputs": []
    },
    {
      "cell_type": "code",
      "source": [
        "#print a mail that your accepting the offer letter from xyz company?\n",
        "print(\"\"\"Respected sir/madam\n",
        "Hope your doing well, I am accepting the position offered by yoy,\n",
        "Their small request from my side ----\n",
        "Thank you,\n",
        "Regards\n",
        "Name \"\"\")"
      ],
      "metadata": {
        "colab": {
          "base_uri": "https://localhost:8080/"
        },
        "id": "5K391HeoMNzP",
        "outputId": "4b85885c-e530-4eeb-85ae-d044c93071ce"
      },
      "execution_count": null,
      "outputs": [
        {
          "output_type": "stream",
          "name": "stdout",
          "text": [
            "Respected sir/madam\n",
            "Hope your doing well, I am accepting the position offered by yoy,\n",
            "Their small request from my side ----\n",
            "Thank you,\n",
            "Regards\n",
            "Name \n"
          ]
        }
      ]
    },
    {
      "cell_type": "code",
      "source": [
        "#How can i access each and every character in string?\n",
        "#slicing operations--->[]\n",
        "#indexing number\n",
        "\n",
        "a = \"Hello world!\"\n",
        "#print the 9th character from a?\n",
        "print(a[9])"
      ],
      "metadata": {
        "id": "PrnKKjk5MNwa",
        "colab": {
          "base_uri": "https://localhost:8080/"
        },
        "outputId": "8481ca83-3ab9-42b5-b79a-d79569d6ef05"
      },
      "execution_count": null,
      "outputs": [
        {
          "output_type": "stream",
          "name": "stdout",
          "text": [
            "l\n"
          ]
        }
      ]
    },
    {
      "cell_type": "code",
      "source": [
        "#print the range of characters from [1o wo]?\n",
        "#[start:end]\n",
        "print(a[3:8])   #end-----> n+1"
      ],
      "metadata": {
        "id": "WM15DWFYMNtf",
        "colab": {
          "base_uri": "https://localhost:8080/"
        },
        "outputId": "dcf89589-9c5a-4c60-c36f-4a5366069428"
      },
      "execution_count": null,
      "outputs": [
        {
          "output_type": "stream",
          "name": "stdout",
          "text": [
            "lo wo\n"
          ]
        }
      ]
    },
    {
      "cell_type": "code",
      "source": [
        "#print \"Hello\" from the hello world?\n",
        "a = \"Hello world!\"\n",
        "print(len(a))"
      ],
      "metadata": {
        "id": "87-qL1XeMNqx",
        "colab": {
          "base_uri": "https://localhost:8080/"
        },
        "outputId": "cc36748b-5167-4640-9dd7-4e9cbdd34067"
      },
      "execution_count": null,
      "outputs": [
        {
          "output_type": "stream",
          "name": "stdout",
          "text": [
            "12\n"
          ]
        }
      ]
    },
    {
      "cell_type": "code",
      "source": [
        "#print the characters from the begining till the 9th charcter?\n",
        "#print(a[0:10])\n",
        "print(a[:10])"
      ],
      "metadata": {
        "id": "y2Y03UTeMNoA",
        "colab": {
          "base_uri": "https://localhost:8080/"
        },
        "outputId": "da89b99e-6724-4c95-ee61-9f9a4aeafece"
      },
      "execution_count": null,
      "outputs": [
        {
          "output_type": "stream",
          "name": "stdout",
          "text": [
            "Hello worl\n"
          ]
        }
      ]
    },
    {
      "cell_type": "code",
      "source": [
        "#print the characters from the 6th position to the end position?\n",
        "print(a[6:])"
      ],
      "metadata": {
        "id": "-86PBT6aNDWn",
        "colab": {
          "base_uri": "https://localhost:8080/"
        },
        "outputId": "040c2dbc-38ea-4d96-aa25-96fa8c666861"
      },
      "execution_count": null,
      "outputs": [
        {
          "output_type": "stream",
          "name": "stdout",
          "text": [
            "world!\n"
          ]
        }
      ]
    },
    {
      "cell_type": "code",
      "source": [
        "#How to find out the no of characters in a string or length of a string?\n",
        "print(len(a))\n",
        "'''Note:- Lenth can be starts from 1,\n",
        "and indexing can be starts from zero'''"
      ],
      "metadata": {
        "id": "6O7DoQ47NDTO",
        "colab": {
          "base_uri": "https://localhost:8080/",
          "height": 53
        },
        "outputId": "6ad20acd-5c5d-4399-8804-fdb78535c978"
      },
      "execution_count": null,
      "outputs": [
        {
          "output_type": "stream",
          "name": "stdout",
          "text": [
            "12\n"
          ]
        },
        {
          "output_type": "execute_result",
          "data": {
            "text/plain": [
              "'Note:- Lenth can be starts from 1,\\nand indexing can be starts from zero'"
            ],
            "application/vnd.google.colaboratory.intrinsic+json": {
              "type": "string"
            }
          },
          "metadata": {},
          "execution_count": 15
        }
      ]
    },
    {
      "cell_type": "code",
      "source": [
        "#print the entire string?\n",
        "print(a)\n",
        "print(a[:])"
      ],
      "metadata": {
        "id": "B7njMlHhNDQn",
        "colab": {
          "base_uri": "https://localhost:8080/"
        },
        "outputId": "6878fe4f-22c1-4808-850e-fce84ebc978d"
      },
      "execution_count": null,
      "outputs": [
        {
          "output_type": "stream",
          "name": "stdout",
          "text": [
            "Hello world!\n",
            "Hello world!\n"
          ]
        }
      ]
    },
    {
      "cell_type": "code",
      "source": [
        "#[start:end]--> range of elements\n",
        "#if i give three values [start:end:step]\n",
        "#print elements of even index position\n",
        "print(a[0:12:2])\n",
        "print(a[::2])\n",
        "#print 3 steps ahead?\n",
        "print(a[::3])"
      ],
      "metadata": {
        "id": "VnJUbc9tNDOB",
        "colab": {
          "base_uri": "https://localhost:8080/"
        },
        "outputId": "3a52d16b-b814-428a-c202-8e1def3aa7b9"
      },
      "execution_count": null,
      "outputs": [
        {
          "output_type": "stream",
          "name": "stdout",
          "text": [
            "Hlowrd\n",
            "Hlowrd\n",
            "Hlwl\n"
          ]
        }
      ]
    },
    {
      "cell_type": "code",
      "source": [
        "#Negative indexing:it starts with '-1' and reads the string in reverse direction\n",
        "#print the \"hello word\" in reverse direction?\n",
        "print(a[::-1])\n"
      ],
      "metadata": {
        "id": "ArJt2rH3NDK7",
        "colab": {
          "base_uri": "https://localhost:8080/"
        },
        "outputId": "33b33254-4a09-4966-c400-b8ca86ee54b8"
      },
      "execution_count": null,
      "outputs": [
        {
          "output_type": "stream",
          "name": "stdout",
          "text": [
            "!dlrow olleH\n"
          ]
        }
      ]
    },
    {
      "cell_type": "code",
      "source": [
        "a = \"Hello world!\"\n",
        "print(a[-5])"
      ],
      "metadata": {
        "colab": {
          "base_uri": "https://localhost:8080/"
        },
        "id": "j_tTaWB4NDH8",
        "outputId": "47719b79-a536-43a2-fc35-a06d4999b66e"
      },
      "execution_count": null,
      "outputs": [
        {
          "output_type": "stream",
          "name": "stdout",
          "text": [
            "o\n"
          ]
        }
      ]
    },
    {
      "cell_type": "code",
      "source": [
        "a = \"Hello world!\"\n",
        "print(a[-8:-3])"
      ],
      "metadata": {
        "colab": {
          "base_uri": "https://localhost:8080/"
        },
        "id": "p2lr9AnyNDFO",
        "outputId": "81e324b2-2086-4cd9-e54f-efa7a45f4234"
      },
      "execution_count": null,
      "outputs": [
        {
          "output_type": "stream",
          "name": "stdout",
          "text": [
            "o wor\n"
          ]
        }
      ]
    },
    {
      "cell_type": "code",
      "source": [
        "#can i give +ve value in start and -ve vale in end\n",
        "\n",
        "print(a[1:-2])"
      ],
      "metadata": {
        "colab": {
          "base_uri": "https://localhost:8080/"
        },
        "id": "HM38SExkNDCW",
        "outputId": "2b882210-c485-4320-f8c5-0272599bd7a9"
      },
      "execution_count": null,
      "outputs": [
        {
          "output_type": "stream",
          "name": "stdout",
          "text": [
            "ello worl\n"
          ]
        }
      ]
    },
    {
      "cell_type": "code",
      "source": [
        "#use the 3 value indexs with -ve indexing? for the following string\n",
        "a = \"Hello world!\"\n",
        "print(a[-4:-10:-2])"
      ],
      "metadata": {
        "colab": {
          "base_uri": "https://localhost:8080/"
        },
        "id": "-CubGNajNC_L",
        "outputId": "cc79bc08-1545-411c-9f2c-38cc36d3d35a"
      },
      "execution_count": null,
      "outputs": [
        {
          "output_type": "stream",
          "name": "stdout",
          "text": [
            "rwo\n"
          ]
        }
      ]
    },
    {
      "cell_type": "code",
      "source": [
        "#confirm that the given string is palindrome or not?\n",
        "b = 'madam'\n",
        "print(b[-1:-6:-1])\n",
        "print(b[::-1])\n",
        "print(b[-5:])"
      ],
      "metadata": {
        "colab": {
          "base_uri": "https://localhost:8080/"
        },
        "id": "BlZlrNscNC8U",
        "outputId": "21dca717-0e8d-4cf7-dcb0-c7e7e79a35f0"
      },
      "execution_count": null,
      "outputs": [
        {
          "output_type": "stream",
          "name": "stdout",
          "text": [
            "madam\n",
            "madam\n",
            "madam\n"
          ]
        }
      ]
    },
    {
      "cell_type": "code",
      "source": [
        "a = \"hello world!\"\n",
        "#what are all the different methods available on given string?\n",
        "# we can use dir()\n",
        "print(dir(a))"
      ],
      "metadata": {
        "colab": {
          "base_uri": "https://localhost:8080/"
        },
        "id": "wsLlp9NZNC5S",
        "outputId": "91ff60f9-e8a9-4661-ca34-a6baeba693c1"
      },
      "execution_count": null,
      "outputs": [
        {
          "output_type": "stream",
          "name": "stdout",
          "text": [
            "['__add__', '__class__', '__contains__', '__delattr__', '__dir__', '__doc__', '__eq__', '__format__', '__ge__', '__getattribute__', '__getitem__', '__getnewargs__', '__gt__', '__hash__', '__init__', '__init_subclass__', '__iter__', '__le__', '__len__', '__lt__', '__mod__', '__mul__', '__ne__', '__new__', '__reduce__', '__reduce_ex__', '__repr__', '__rmod__', '__rmul__', '__setattr__', '__sizeof__', '__str__', '__subclasshook__', 'capitalize', 'casefold', 'center', 'count', 'encode', 'endswith', 'expandtabs', 'find', 'format', 'format_map', 'index', 'isalnum', 'isalpha', 'isascii', 'isdecimal', 'isdigit', 'isidentifier', 'islower', 'isnumeric', 'isprintable', 'isspace', 'istitle', 'isupper', 'join', 'ljust', 'lower', 'lstrip', 'maketrans', 'partition', 'removeprefix', 'removesuffix', 'replace', 'rfind', 'rindex', 'rjust', 'rpartition', 'rsplit', 'rstrip', 'split', 'splitlines', 'startswith', 'strip', 'swapcase', 'title', 'translate', 'upper', 'zfill']\n"
          ]
        }
      ]
    },
    {
      "cell_type": "code",
      "source": [
        "#imporatant string methods\n",
        "#1.capitalize\n",
        "#2.lower\n",
        "#3.lstrip\n",
        "#4.rstrip\n",
        "#5.split\n",
        "#6.strip\n",
        "#7.title\n",
        "#8.upper\n",
        "#9.replace *********\n",
        "#10.swapcase"
      ],
      "metadata": {
        "id": "t-CabOT2NC2X"
      },
      "execution_count": null,
      "outputs": []
    },
    {
      "cell_type": "code",
      "source": [
        "a = \"hello world!\"\n",
        "#How can we apply string ,methods\n",
        "print(a.upper())\n",
        "print(a.capitalize())\n",
        "print(a.title())"
      ],
      "metadata": {
        "colab": {
          "base_uri": "https://localhost:8080/"
        },
        "id": "Kk62P9qBNCzK",
        "outputId": "41b3f114-59e8-4b52-9ca4-3e920022e9b9"
      },
      "execution_count": null,
      "outputs": [
        {
          "output_type": "stream",
          "name": "stdout",
          "text": [
            "HELLO WORLD!\n",
            "Hello world!\n",
            "Hello World!\n"
          ]
        }
      ]
    },
    {
      "cell_type": "code",
      "source": [
        "b = \"   Hello this is shahul    \"\n",
        "print(b.lstrip())\n",
        "print(b.rstrip())\n",
        "print(b.strip())"
      ],
      "metadata": {
        "colab": {
          "base_uri": "https://localhost:8080/"
        },
        "id": "iBm33CZfNCv3",
        "outputId": "426143fb-0213-4729-b88d-8a8175ba6018"
      },
      "execution_count": null,
      "outputs": [
        {
          "output_type": "stream",
          "name": "stdout",
          "text": [
            "Hello this is shahul    \n",
            "   Hello this is shahul\n",
            "Hello this is shahul\n"
          ]
        }
      ]
    },
    {
      "cell_type": "code",
      "source": [
        "#Task is apply 10 string methods on \"Hello Zenvius\"\n",
        "#replace \"zenvius\" in \"Hello zenvius\"  with \"python\"---->o/p-->\"Hello Python\"?\n",
        "\n",
        "s = \"Hello zenvius\"\n",
        "print(s.replace(\"zenvius\",\"Python\"))"
      ],
      "metadata": {
        "colab": {
          "base_uri": "https://localhost:8080/"
        },
        "id": "VOeuDqAsNyPM",
        "outputId": "bf7678c1-0135-4c67-e0b4-5ca64c5b2107"
      },
      "execution_count": null,
      "outputs": [
        {
          "output_type": "stream",
          "name": "stdout",
          "text": [
            "Hello Python\n"
          ]
        }
      ]
    },
    {
      "cell_type": "code",
      "source": [
        "#Format()\n",
        "#what is format()? why it is important\n",
        "a = \"hello\"\n",
        "b = \"world\"\n",
        "#concate above two varibles\n",
        "#c = a +\" \"+ b\n",
        "c = a + b\n",
        "print(c)\n",
        "#print(a,\"\\t\",b)"
      ],
      "metadata": {
        "colab": {
          "base_uri": "https://localhost:8080/"
        },
        "id": "tyOzpkoDNyLt",
        "outputId": "d2b68140-dc1f-40b7-effc-78c05fb1f726"
      },
      "execution_count": null,
      "outputs": [
        {
          "output_type": "stream",
          "name": "stdout",
          "text": [
            "helloworld\n"
          ]
        }
      ]
    },
    {
      "cell_type": "code",
      "source": [
        "a,b,c = 1,2,3\n",
        "print(a,b,c, sep=\"\\n\")"
      ],
      "metadata": {
        "colab": {
          "base_uri": "https://localhost:8080/"
        },
        "id": "dSeLABs2NyJB",
        "outputId": "eff62d03-5cf9-49ef-9e3b-438beb39f1ea"
      },
      "execution_count": null,
      "outputs": [
        {
          "output_type": "stream",
          "name": "stdout",
          "text": [
            "1\n",
            "2\n",
            "3\n"
          ]
        }
      ]
    },
    {
      "cell_type": "code",
      "source": [
        "age = 10\n",
        "txt = \"my age is\"\n",
        "final_stat = txt + str(age)\n",
        "print(final_stat)\n",
        "print(txt,age)"
      ],
      "metadata": {
        "colab": {
          "base_uri": "https://localhost:8080/"
        },
        "id": "aa432vIXNyGY",
        "outputId": "4bf3366d-ba02-4a80-9703-a96a55674321"
      },
      "execution_count": null,
      "outputs": [
        {
          "output_type": "stream",
          "name": "stdout",
          "text": [
            "my age is10\n",
            "my age is 10\n"
          ]
        }
      ]
    },
    {
      "cell_type": "code",
      "source": [
        "#format():- it takes an argument and that can be placed in a place holder{} in a string\n",
        "#1st method of formating\n",
        "age = 10\n",
        "txt = 'i am {} years old'\n",
        "print(txt.format(age))"
      ],
      "metadata": {
        "colab": {
          "base_uri": "https://localhost:8080/"
        },
        "id": "pl2eIXOeNyDr",
        "outputId": "2f16a67e-3a28-43a1-ba63-0e71328606d0"
      },
      "execution_count": null,
      "outputs": [
        {
          "output_type": "stream",
          "name": "stdout",
          "text": [
            "i am 10 years old\n"
          ]
        }
      ]
    },
    {
      "cell_type": "code",
      "source": [
        "#2nd method\n",
        "age = 10\n",
        "txt = 'i am {} years old'.format(age)\n",
        "print(txt)"
      ],
      "metadata": {
        "colab": {
          "base_uri": "https://localhost:8080/"
        },
        "id": "GnNQY3LENyAs",
        "outputId": "22333668-871e-4dd4-bac8-f4e1900b4a90"
      },
      "execution_count": null,
      "outputs": [
        {
          "output_type": "stream",
          "name": "stdout",
          "text": [
            "i am 10 years old\n"
          ]
        }
      ]
    },
    {
      "cell_type": "code",
      "source": [
        "#3rd method---f'string method'\n",
        "age = 10\n",
        "txt = f'i am {age} years old'\n",
        "print(txt)\n",
        "\n"
      ],
      "metadata": {
        "colab": {
          "base_uri": "https://localhost:8080/"
        },
        "id": "69Xx5JbMNx9u",
        "outputId": "77bc9cc9-217d-457c-dea3-70f74367ff0e"
      },
      "execution_count": null,
      "outputs": [
        {
          "output_type": "stream",
          "name": "stdout",
          "text": [
            "i am 10 years old\n"
          ]
        }
      ]
    },
    {
      "cell_type": "code",
      "source": [
        "item = 'Product A'\n",
        "price = 99.9\n",
        "quantity = 20\n",
        "#expected output: your order for product a number of items quantity priced at 99.99 is confiremd\n",
        "text = \"your order for {} number of items {} priced at {} is confiremd\"\n",
        "\n",
        "print(text.format(item,quantity,price))\n",
        "\n",
        "\n"
      ],
      "metadata": {
        "colab": {
          "base_uri": "https://localhost:8080/"
        },
        "id": "_N_JOqHZNx6-",
        "outputId": "13253a2a-f506-4aeb-e9db-8f3a8b0231e7"
      },
      "execution_count": null,
      "outputs": [
        {
          "output_type": "stream",
          "name": "stdout",
          "text": [
            "your order for Product A number of items 20 priced at 99.9 is confiremd\n"
          ]
        }
      ]
    },
    {
      "cell_type": "code",
      "source": [
        "text = \"your order for {} number of items {} priced at {} is confiremd\".format(item,quantity,price)\n",
        "\n",
        "print(text)"
      ],
      "metadata": {
        "colab": {
          "base_uri": "https://localhost:8080/"
        },
        "id": "dOC5qDBENx4K",
        "outputId": "bd08b7d9-058c-48e6-ef73-8b3ce2df8ab4"
      },
      "execution_count": null,
      "outputs": [
        {
          "output_type": "stream",
          "name": "stdout",
          "text": [
            "your order for Product A number of items 20 priced at 99.9 is confiremd\n"
          ]
        }
      ]
    },
    {
      "cell_type": "markdown",
      "source": [
        "Conditional Statements"
      ],
      "metadata": {
        "id": "6zGxfBC4OE0m"
      }
    },
    {
      "cell_type": "code",
      "source": [
        "#what are all comparison operators?\n",
        "#equals too-----> ==\n",
        "#not equals to ---> !=\n",
        "#greater than---> >\n",
        "#less than---> <\n",
        "#gretaer than equals ---> >=\n",
        "#less than equals to ---->< <="
      ],
      "metadata": {
        "id": "3d68EqNxNx1C"
      },
      "execution_count": null,
      "outputs": []
    },
    {
      "cell_type": "code",
      "source": [
        "print(10 == 10)\n",
        "print(10 < 10)"
      ],
      "metadata": {
        "colab": {
          "base_uri": "https://localhost:8080/"
        },
        "id": "PUZyrmqvNxyY",
        "outputId": "276c71d2-7fdc-4a7a-a9d9-bfb4e50b4062"
      },
      "execution_count": null,
      "outputs": [
        {
          "output_type": "stream",
          "name": "stdout",
          "text": [
            "True\n",
            "False\n"
          ]
        }
      ]
    },
    {
      "cell_type": "code",
      "source": [
        "#conditional statments:---> if,elif ,else\n",
        "marks = 35\n",
        "passing = 40\n",
        "total_marks = 100\n",
        "if marks > passing:\n",
        "  print(\"congratulation\")\n",
        "  print(\"you have passed\")\n",
        "  print(f'you have got {marks} marks out of {total_marks}')\n",
        "else:\n",
        "  print(\"Better luck next time\")\n",
        "  print(\"you have failed\")\n",
        "  print(f'you have got {marks} marks out of {total_marks}')\n",
        "\n",
        "\n"
      ],
      "metadata": {
        "colab": {
          "base_uri": "https://localhost:8080/"
        },
        "id": "HbFzSCnRNxvF",
        "outputId": "ef380006-d4af-44f1-dc99-30ce30a3b850"
      },
      "execution_count": null,
      "outputs": [
        {
          "output_type": "stream",
          "name": "stdout",
          "text": [
            "Better luck next time\n",
            "you have failed\n",
            "you have got 35 marks out of 100\n"
          ]
        }
      ]
    },
    {
      "cell_type": "code",
      "source": [
        "#print a number is -ve or positive or nuetral?\n",
        "a = int(input(\"enter the number \"))\n",
        "if a > 0:\n",
        "  print(\"+ve\")\n",
        "elif a == 0:\n",
        "  print(\"zero\")\n",
        "else:\n",
        "  print(\"-ve\")"
      ],
      "metadata": {
        "colab": {
          "base_uri": "https://localhost:8080/"
        },
        "id": "pM5NAF7PNxsH",
        "outputId": "d53c2cf2-8330-4efa-b1f4-7134325b977f"
      },
      "execution_count": null,
      "outputs": [
        {
          "output_type": "stream",
          "name": "stdout",
          "text": [
            "enter the number 2\n",
            "+ve\n"
          ]
        }
      ]
    },
    {
      "cell_type": "code",
      "source": [
        "#logical operators:- and,or, not\n",
        "#And:- all the conditions has be to true then only prgram executed\n",
        "#or:any one condition is true\n",
        "#not:reverse the actual output"
      ],
      "metadata": {
        "id": "8HG5tNvQNxpR"
      },
      "execution_count": null,
      "outputs": []
    },
    {
      "cell_type": "code",
      "source": [
        "print(10 == 10)\n",
        "print(not(10 == 10))"
      ],
      "metadata": {
        "colab": {
          "base_uri": "https://localhost:8080/"
        },
        "id": "yaJep1AYNxmh",
        "outputId": "3def1cc3-c228-40a1-c7ec-5bcf7da7d033"
      },
      "execution_count": null,
      "outputs": [
        {
          "output_type": "stream",
          "name": "stdout",
          "text": [
            "True\n",
            "False\n"
          ]
        }
      ]
    },
    {
      "cell_type": "code",
      "source": [
        "a = 10\n",
        "b = 56\n",
        "c = 455\n",
        "# check condtion that a is lesser than c and b is lesser than c and b is greater than a\n",
        "if a < c and b < c and b > a:\n",
        "  print(\"all the conditions satified\")\n",
        "else:\n",
        "  print(\"conditions is not satisfied\")"
      ],
      "metadata": {
        "colab": {
          "base_uri": "https://localhost:8080/"
        },
        "id": "OxwNxzTDNxj6",
        "outputId": "a54ef669-50ed-48c5-8b71-a866942e4e10"
      },
      "execution_count": null,
      "outputs": [
        {
          "output_type": "stream",
          "name": "stdout",
          "text": [
            "all the conditions satified\n"
          ]
        }
      ]
    },
    {
      "cell_type": "code",
      "source": [
        "#Nested condition:\n",
        "a = 45\n",
        "# a  is greater than 10\n",
        "# a is greater than 20\n",
        "# a is greater than 3o\n",
        "# a is greater than 40\n",
        "# a is lesser than 50\n"
      ],
      "metadata": {
        "id": "Xlx8csNENxg9"
      },
      "execution_count": null,
      "outputs": []
    },
    {
      "cell_type": "code",
      "source": [
        "#check what grade we can give to the students based upon theor marks?\n",
        "#total marks = 100\n",
        "#if the student get 90 to 100 --> A+\n",
        "#if the student get 80 to 90 --> A\n",
        "#if the student get 70 to 80 --> B+\n",
        "#if the student get 60 to 70 --> B\n",
        "#if the student get 50 to 60 --> c\n",
        "#if the student get 40 to 50 --> D\n",
        "#Below it display \"better luck next time\""
      ],
      "metadata": {
        "id": "y64E7SHuNxeI"
      },
      "execution_count": null,
      "outputs": []
    },
    {
      "cell_type": "code",
      "source": [
        "#Pass:- Null place holder when you excute nothing will happen\n",
        "a = int(input(\"enter the number \"))\n",
        "if a > 0:\n",
        "  print(\"+ve\")\n",
        "  pass\n",
        "# elif a == 0:\n",
        "#   print(\"zero\")\n",
        "# else:\n",
        "#   print(\"-ve\")"
      ],
      "metadata": {
        "colab": {
          "base_uri": "https://localhost:8080/"
        },
        "id": "9BfV1wDqNxbA",
        "outputId": "55077d5e-3150-4783-b899-7107b16c9523"
      },
      "execution_count": null,
      "outputs": [
        {
          "output_type": "stream",
          "name": "stdout",
          "text": [
            "enter the number 23\n",
            "+ve\n"
          ]
        }
      ]
    },
    {
      "cell_type": "markdown",
      "source": [
        "Loops --"
      ],
      "metadata": {
        "id": "Ivg1A5MsOfxm"
      }
    },
    {
      "cell_type": "code",
      "source": [
        "#why we use loops?\n",
        "#we are using loops to avioid Wet codes to avoid duplicate programmoing\n",
        "#WET code and 2. Dry code\n",
        "#2 types of loops\n",
        "#1.while loop\n",
        "#2.for loop"
      ],
      "metadata": {
        "id": "bRFSj5LUNxYb"
      },
      "execution_count": null,
      "outputs": []
    },
    {
      "cell_type": "code",
      "source": [
        "#whileloop:-works/runs a set of instructions as long as condition remain true\n",
        "target = 5\n",
        "intial = 0\n",
        "while intial < 5:\n",
        "  print(\"go down\")\n",
        "  print(\"come up\")\n",
        "  print(\"=======rep complted===\")\n",
        "  intial = intial + 1"
      ],
      "metadata": {
        "colab": {
          "base_uri": "https://localhost:8080/"
        },
        "id": "Gx6Qz0qzNxVj",
        "outputId": "ec6b1faf-03f4-48cc-c2cb-c55ea268c3a6"
      },
      "execution_count": null,
      "outputs": [
        {
          "output_type": "stream",
          "name": "stdout",
          "text": [
            "go down\n",
            "come up\n",
            "=======rep complted===\n",
            "go down\n",
            "come up\n",
            "=======rep complted===\n",
            "go down\n",
            "come up\n",
            "=======rep complted===\n",
            "go down\n",
            "come up\n",
            "=======rep complted===\n",
            "go down\n",
            "come up\n",
            "=======rep complted===\n"
          ]
        }
      ]
    },
    {
      "cell_type": "code",
      "source": [
        "#Write a program to run a lift to reach user input floor?\n",
        "D = 4\n",
        "i = 0\n",
        "while i <= 4:\n",
        "  print(\"reach the destination\")\n",
        "  print(\"======================\")\n",
        "  i = i + 1\n",
        "\n"
      ],
      "metadata": {
        "colab": {
          "base_uri": "https://localhost:8080/"
        },
        "id": "s_0MvsxGNxS7",
        "outputId": "cf484df1-51d0-4349-af91-09d578cebfda"
      },
      "execution_count": null,
      "outputs": [
        {
          "output_type": "stream",
          "name": "stdout",
          "text": [
            "reach the destination\n",
            "======================\n",
            "reach the destination\n",
            "======================\n",
            "reach the destination\n",
            "======================\n",
            "reach the destination\n",
            "======================\n",
            "reach the destination\n",
            "======================\n"
          ]
        }
      ]
    },
    {
      "cell_type": "code",
      "source": [
        "#let say i = 10  while the value is less than 10 and i want to print values of i up to 10.\n",
        "i = int(input())\n",
        "while i <= 10:\n",
        "  print(i)\n",
        "  i = i + 1 #---> i += 1 --->\n",
        "#i *= 2----> i = i *2\n",
        "#i -=2 ----> i = i -2"
      ],
      "metadata": {
        "colab": {
          "base_uri": "https://localhost:8080/"
        },
        "id": "5_n0UVoaNxQH",
        "outputId": "9522372f-56d5-464f-cd1a-c3a0b42b63a2"
      },
      "execution_count": null,
      "outputs": [
        {
          "output_type": "stream",
          "name": "stdout",
          "text": [
            "2\n",
            "2\n",
            "3\n",
            "4\n",
            "5\n",
            "6\n",
            "7\n",
            "8\n",
            "9\n",
            "10\n"
          ]
        }
      ]
    },
    {
      "cell_type": "code",
      "source": [
        "#Tell a string weather it is palidrome or not input() and conditional statments?\n",
        "x = input()\n",
        "x_rev =x[::-1]\n",
        "print(f'rev of string {x_rev}')\n",
        "if x.lower() == x_rev.lower():\n",
        "  print(f'{x} is palindrome')\n",
        "else:\n",
        "   print(f'{x} is not palindrome')"
      ],
      "metadata": {
        "colab": {
          "base_uri": "https://localhost:8080/"
        },
        "id": "_slJnBKMNxNb",
        "outputId": "d1da9262-8503-4a94-d11a-f5f3cf74e048"
      },
      "execution_count": null,
      "outputs": [
        {
          "output_type": "stream",
          "name": "stdout",
          "text": [
            "2\n",
            "rev of string 2\n",
            "2 is palindrome\n"
          ]
        }
      ]
    },
    {
      "cell_type": "code",
      "source": [
        "#write a program to print multiples of 2 in a given list?\n",
        "number = [1,2,3,4,5,6] #--->[2,4,6,8,10,12]\n",
        "print(number*2)"
      ],
      "metadata": {
        "colab": {
          "base_uri": "https://localhost:8080/"
        },
        "id": "7PPiIg8uNxKl",
        "outputId": "d0f48b03-b705-4529-aa35-26ac56c17594"
      },
      "execution_count": null,
      "outputs": [
        {
          "output_type": "stream",
          "name": "stdout",
          "text": [
            "[1, 2, 3, 4, 5, 6, 1, 2, 3, 4, 5, 6]\n"
          ]
        }
      ]
    },
    {
      "cell_type": "code",
      "source": [
        "#for loop:>- runs a set of instructions over the collection\n",
        "number = [1,2,3,4,5,6]\n",
        "for i in number:\n",
        "  print(i*2)"
      ],
      "metadata": {
        "colab": {
          "base_uri": "https://localhost:8080/"
        },
        "id": "s-i9TJSkNxHo",
        "outputId": "c3959634-6703-4a51-ea22-bd58632abbea"
      },
      "execution_count": null,
      "outputs": [
        {
          "output_type": "stream",
          "name": "stdout",
          "text": [
            "2\n",
            "4\n",
            "6\n",
            "8\n",
            "10\n",
            "12\n"
          ]
        }
      ]
    },
    {
      "cell_type": "code",
      "source": [
        "number = [1,2,3,4,5,6]\n",
        "for i in number:\n",
        "  print(\"this loop runs\")\n",
        "  print(\"every value\")\n",
        "  print('===================')"
      ],
      "metadata": {
        "colab": {
          "base_uri": "https://localhost:8080/"
        },
        "id": "fkaArqK-NxEp",
        "outputId": "dccc7892-084d-47a8-945d-4528c877a76b"
      },
      "execution_count": null,
      "outputs": [
        {
          "output_type": "stream",
          "name": "stdout",
          "text": [
            "this loop runs\n",
            "every value\n",
            "===================\n",
            "this loop runs\n",
            "every value\n",
            "===================\n",
            "this loop runs\n",
            "every value\n",
            "===================\n",
            "this loop runs\n",
            "every value\n",
            "===================\n",
            "this loop runs\n",
            "every value\n",
            "===================\n",
            "this loop runs\n",
            "every value\n",
            "===================\n"
          ]
        }
      ]
    },
    {
      "cell_type": "code",
      "source": [
        "#print \"hello world\" in separate lines use for loop?\n",
        "x = \"hello world\"\n",
        "for i in x:\n",
        "  print(i)"
      ],
      "metadata": {
        "colab": {
          "base_uri": "https://localhost:8080/"
        },
        "id": "VLzHsI6XNxBn",
        "outputId": "4aea0169-433b-40de-eb9e-d19dfd84faa7"
      },
      "execution_count": null,
      "outputs": [
        {
          "output_type": "stream",
          "name": "stdout",
          "text": [
            "h\n",
            "e\n",
            "l\n",
            "l\n",
            "o\n",
            " \n",
            "w\n",
            "o\n",
            "r\n",
            "l\n",
            "d\n"
          ]
        }
      ]
    },
    {
      "cell_type": "code",
      "source": [
        "#Break and continue\n",
        "#break:it will stops entore loops irrespective of items in collections.\n",
        "number = [1,2,3,4,5,6]\n",
        "#break the loop at 2\n",
        "for i in number:\n",
        "\n",
        "  if i == 2:\n",
        "    break\n",
        "  print(i)"
      ],
      "metadata": {
        "colab": {
          "base_uri": "https://localhost:8080/"
        },
        "id": "-Nl4vTnENw-g",
        "outputId": "c1d15a6d-3453-4a20-982b-854646f6d505"
      },
      "execution_count": null,
      "outputs": [
        {
          "output_type": "stream",
          "name": "stdout",
          "text": [
            "1\n"
          ]
        }
      ]
    },
    {
      "cell_type": "code",
      "source": [
        "#continue: when you want to skip a current loop and move to the next loop\n",
        "number = [1,2,3,4,5,6]\n",
        "for x in number:\n",
        "  if x == 3:\n",
        "    continue\n",
        "  print(x)"
      ],
      "metadata": {
        "colab": {
          "base_uri": "https://localhost:8080/"
        },
        "id": "hRs3UNqYNw7t",
        "outputId": "5a6d6a26-b9a6-4520-9af2-33a7575b9308"
      },
      "execution_count": null,
      "outputs": [
        {
          "output_type": "stream",
          "name": "stdout",
          "text": [
            "1\n",
            "2\n",
            "4\n",
            "5\n",
            "6\n"
          ]
        }
      ]
    },
    {
      "cell_type": "code",
      "source": [
        "a = [10,20,30,40,50,60,70,80,90]\n",
        "#skip 30,50and 70:\n",
        "for i in a:\n",
        "  if i == 30 or i == 50 or i == 70:\n",
        "    continue\n",
        "  print(i)"
      ],
      "metadata": {
        "colab": {
          "base_uri": "https://localhost:8080/"
        },
        "id": "jt30yolGNw42",
        "outputId": "013686ab-181a-4b08-e961-f0f429ec242c"
      },
      "execution_count": null,
      "outputs": [
        {
          "output_type": "stream",
          "name": "stdout",
          "text": [
            "10\n",
            "20\n",
            "40\n",
            "60\n",
            "80\n",
            "90\n"
          ]
        }
      ]
    },
    {
      "cell_type": "code",
      "source": [
        "#Range(end):\n",
        "for i in range(20):\n",
        "  print(i)"
      ],
      "metadata": {
        "colab": {
          "base_uri": "https://localhost:8080/"
        },
        "id": "tq0RmEipNw15",
        "outputId": "bbb7930e-9be1-4543-b338-abda5e5387c8"
      },
      "execution_count": 1,
      "outputs": [
        {
          "output_type": "stream",
          "name": "stdout",
          "text": [
            "0\n",
            "1\n",
            "2\n",
            "3\n",
            "4\n",
            "5\n",
            "6\n",
            "7\n",
            "8\n",
            "9\n",
            "10\n",
            "11\n",
            "12\n",
            "13\n",
            "14\n",
            "15\n",
            "16\n",
            "17\n",
            "18\n",
            "19\n"
          ]
        }
      ]
    },
    {
      "cell_type": "code",
      "source": [
        "#print even numberbs till range of 50\n",
        "for i in range(50):\n",
        "  if i % 2 == 0:\n",
        "    print(i)"
      ],
      "metadata": {
        "colab": {
          "base_uri": "https://localhost:8080/"
        },
        "id": "Jg0Z9dbJNwzB",
        "outputId": "c6479eb8-d063-4b92-9a33-b0cf1d0f2ed5"
      },
      "execution_count": 2,
      "outputs": [
        {
          "output_type": "stream",
          "name": "stdout",
          "text": [
            "0\n",
            "2\n",
            "4\n",
            "6\n",
            "8\n",
            "10\n",
            "12\n",
            "14\n",
            "16\n",
            "18\n",
            "20\n",
            "22\n",
            "24\n",
            "26\n",
            "28\n",
            "30\n",
            "32\n",
            "34\n",
            "36\n",
            "38\n",
            "40\n",
            "42\n",
            "44\n",
            "46\n",
            "48\n"
          ]
        }
      ]
    },
    {
      "cell_type": "code",
      "source": [
        "#print \"hello world\" in 10 times?\n",
        "\n",
        "for x in range(10):\n",
        "  print(\"hello world!\")\n"
      ],
      "metadata": {
        "colab": {
          "base_uri": "https://localhost:8080/"
        },
        "id": "dDeJ2uhsNwwi",
        "outputId": "ce6f6985-d704-437e-eabd-1fcab07a8fbe"
      },
      "execution_count": null,
      "outputs": [
        {
          "output_type": "stream",
          "name": "stdout",
          "text": [
            "hello world!\n",
            "hello world!\n",
            "hello world!\n",
            "hello world!\n",
            "hello world!\n",
            "hello world!\n",
            "hello world!\n",
            "hello world!\n",
            "hello world!\n",
            "hello world!\n"
          ]
        }
      ]
    },
    {
      "cell_type": "code",
      "source": [
        "#range(star:end)\n",
        "for i in range(2,10):\n",
        "  print(i)"
      ],
      "metadata": {
        "colab": {
          "base_uri": "https://localhost:8080/"
        },
        "id": "jqpeIj9JNwtg",
        "outputId": "5e695ff0-08d0-4319-e7eb-82b9df291219"
      },
      "execution_count": null,
      "outputs": [
        {
          "output_type": "stream",
          "name": "stdout",
          "text": [
            "2\n",
            "3\n",
            "4\n",
            "5\n",
            "6\n",
            "7\n",
            "8\n",
            "9\n"
          ]
        }
      ]
    },
    {
      "cell_type": "code",
      "source": [
        "x = \"hello world\"\n",
        "for a in range(len(x)):\n",
        "  print(x[a])"
      ],
      "metadata": {
        "colab": {
          "base_uri": "https://localhost:8080/"
        },
        "id": "87WLRDBcNwqr",
        "outputId": "d9c46142-3547-45f6-ce84-2ca52bad490a"
      },
      "execution_count": null,
      "outputs": [
        {
          "output_type": "stream",
          "name": "stdout",
          "text": [
            "h\n",
            "e\n",
            "l\n",
            "l\n",
            "o\n",
            " \n",
            "w\n",
            "o\n",
            "r\n",
            "l\n",
            "d\n"
          ]
        }
      ]
    },
    {
      "cell_type": "markdown",
      "source": [
        "Collections ======"
      ],
      "metadata": {
        "id": "RpA1NLGJPKBn"
      }
    },
    {
      "cell_type": "code",
      "source": [
        "#1. List\n",
        "#2.Tuple\n",
        "#3.set\n",
        "#4.dictionary"
      ],
      "metadata": {
        "id": "nPx-BNmTNwny"
      },
      "execution_count": null,
      "outputs": []
    },
    {
      "cell_type": "code",
      "source": [
        "#what is a list?\n",
        "#created with []--ordered,allows duplicates,mutable(changable)\n",
        "l1 = [\"dog\",\"parrot\",\"elephant\",\"dog\"]\n",
        "print(l1)\n",
        "#what can be stored in a list?\n",
        "l2 = [\"true\",\"false\",\"true\",\"false\"]\n",
        "print(l2)"
      ],
      "metadata": {
        "colab": {
          "base_uri": "https://localhost:8080/"
        },
        "id": "NFlO_VJPNwlI",
        "outputId": "4ab3a89b-df1f-4b04-e405-35d8c2f8f2ac"
      },
      "execution_count": null,
      "outputs": [
        {
          "output_type": "stream",
          "name": "stdout",
          "text": [
            "['dog', 'parrot', 'elephant', 'dog']\n",
            "['true', 'false', 'true', 'false']\n"
          ]
        }
      ]
    },
    {
      "cell_type": "code",
      "source": [
        "print(type(l1),type(l2), sep=\"\\n\")"
      ],
      "metadata": {
        "colab": {
          "base_uri": "https://localhost:8080/"
        },
        "id": "SplQIrIVNwiH",
        "outputId": "f22d5c38-4f4d-46ff-8fe0-7cf7f299b90e"
      },
      "execution_count": null,
      "outputs": [
        {
          "output_type": "stream",
          "name": "stdout",
          "text": [
            "<class 'list'>\n",
            "<class 'list'>\n"
          ]
        }
      ]
    },
    {
      "cell_type": "code",
      "source": [
        "#list are odered:-accessing the items with index numbers\n",
        "l1 = [\"dog\",\"parrot\",\"elephant\",\"dog\"]\n",
        "\n",
        "print(l1[2])"
      ],
      "metadata": {
        "colab": {
          "base_uri": "https://localhost:8080/"
        },
        "id": "FacJhwGdNwfd",
        "outputId": "000072fb-ace3-45f7-d9d0-396784a6d864"
      },
      "execution_count": null,
      "outputs": [
        {
          "output_type": "stream",
          "name": "stdout",
          "text": [
            "elephant\n"
          ]
        }
      ]
    },
    {
      "cell_type": "code",
      "source": [
        "l3 = ['apple','banana','cherry','kiwi','mango']\n",
        "#access range of elements\n",
        "print(l3[1:4])"
      ],
      "metadata": {
        "colab": {
          "base_uri": "https://localhost:8080/"
        },
        "id": "znOuqjT9Nwcf",
        "outputId": "20f77f7a-5f3e-4b4f-9e83-b8e517a7c991"
      },
      "execution_count": null,
      "outputs": [
        {
          "output_type": "stream",
          "name": "stdout",
          "text": [
            "['banana', 'cherry', 'kiwi']\n"
          ]
        }
      ]
    },
    {
      "cell_type": "code",
      "source": [
        "print(l3[::-1])\n",
        "#-ve index\n",
        "print(l3)"
      ],
      "metadata": {
        "colab": {
          "base_uri": "https://localhost:8080/"
        },
        "id": "j4x2UztMNwZl",
        "outputId": "f63cec52-34e6-4016-f778-2632c6f6c3cf"
      },
      "execution_count": null,
      "outputs": [
        {
          "output_type": "stream",
          "name": "stdout",
          "text": [
            "['mango', 'kiwi', 'cherry', 'banana', 'apple']\n",
            "['apple', 'banana', 'cherry', 'kiwi', 'mango']\n"
          ]
        }
      ]
    },
    {
      "cell_type": "code",
      "source": [
        "l4=['apple', 'banana', 'cherry', 'kiwi', 'mango']\n",
        "#swapping\n",
        "l4[0] = 'orange'\n",
        "print(l4)"
      ],
      "metadata": {
        "colab": {
          "base_uri": "https://localhost:8080/"
        },
        "id": "tRg29q5aNwWi",
        "outputId": "743dbd41-420b-4a17-fa89-5c203119815f"
      },
      "execution_count": null,
      "outputs": [
        {
          "output_type": "stream",
          "name": "stdout",
          "text": [
            "['orange', 'banana', 'cherry', 'kiwi', 'mango']\n"
          ]
        }
      ]
    },
    {
      "cell_type": "code",
      "source": [
        "#swap elements from index 1 to 4\n",
        "l4[1:4]=['blueberry','strawberry','muskmelon']\n",
        "print(l4)"
      ],
      "metadata": {
        "colab": {
          "base_uri": "https://localhost:8080/"
        },
        "id": "GPaPnAZmPbPa",
        "outputId": "a1c2d104-6edf-4cb8-f5fb-ff47e6958188"
      },
      "execution_count": null,
      "outputs": [
        {
          "output_type": "stream",
          "name": "stdout",
          "text": [
            "['orange', 'blueberry', 'strawberry', 'muskmelon', 'mango']\n"
          ]
        }
      ]
    },
    {
      "cell_type": "code",
      "source": [
        "#Adding:-\n",
        "#1. append\n",
        "#what is the default index position for append method\n",
        "l5 =['orange', 'blueberry', 'strawberry', 'muskmelon', 'mango']\n",
        "l5.append(\"apple\")\n",
        "print(l5)\n"
      ],
      "metadata": {
        "colab": {
          "base_uri": "https://localhost:8080/"
        },
        "id": "wpugKo1yPbLv",
        "outputId": "558e428d-6eeb-455c-9e2d-560b8d1189f7"
      },
      "execution_count": null,
      "outputs": [
        {
          "output_type": "stream",
          "name": "stdout",
          "text": [
            "['orange', 'blueberry', 'strawberry', 'muskmelon', 'mango', 'apple']\n"
          ]
        }
      ]
    },
    {
      "cell_type": "code",
      "source": [
        "#2.insert--> add item at specific index-->(index,item)\n",
        "l6=['orange', 'blueberry', 'strawberry', 'muskmelon', 'mango', 'apple']\n",
        "l6.insert(2,\"kiwi\")\n",
        "print(l6)"
      ],
      "metadata": {
        "colab": {
          "base_uri": "https://localhost:8080/"
        },
        "id": "GW1ZwkZ6PbJR",
        "outputId": "eb3ed0d3-bf43-4cdf-9929-d975178bd7de"
      },
      "execution_count": null,
      "outputs": [
        {
          "output_type": "stream",
          "name": "stdout",
          "text": [
            "['orange', 'blueberry', 'kiwi', 'strawberry', 'muskmelon', 'mango', 'apple']\n"
          ]
        }
      ]
    },
    {
      "cell_type": "code",
      "source": [
        "#3.extend-->add the items from the other collections\n",
        "#iterables-->nothing but collections(list,tuple dictionary,set)\n",
        "l7 =[1,2,3,4,5]\n",
        "l6.extend(l7)\n",
        "print(l6)\n"
      ],
      "metadata": {
        "colab": {
          "base_uri": "https://localhost:8080/"
        },
        "id": "FItdcrD6PbGC",
        "outputId": "e760e7d8-fed9-440d-ac3d-6a853ae08695"
      },
      "execution_count": null,
      "outputs": [
        {
          "output_type": "stream",
          "name": "stdout",
          "text": [
            "['orange', 'blueberry', 'kiwi', 'strawberry', 'muskmelon', 'mango', 'apple', 1, 2, 3, 4, 5]\n"
          ]
        }
      ]
    },
    {
      "cell_type": "code",
      "source": [
        "l8 =(6,7,8,9)\n",
        "l7.extend(l8)\n",
        "print(l7)"
      ],
      "metadata": {
        "colab": {
          "base_uri": "https://localhost:8080/"
        },
        "id": "zFFjoHlTPbDg",
        "outputId": "02f780ab-e8ed-4652-cbb5-9d0138e06836"
      },
      "execution_count": null,
      "outputs": [
        {
          "output_type": "stream",
          "name": "stdout",
          "text": [
            "[1, 2, 3, 4, 5, 6, 7, 8, 9]\n"
          ]
        }
      ]
    },
    {
      "cell_type": "code",
      "source": [
        "#i want to insert another collection of items at index 2\n",
        "#the given list is ['orange', 'blueberry', 'kiwi', 'strawberry', 'muskmelon', 'mango', 'apple']\n",
        "l3=(10,20,30)\n",
        "l2=['orange', 'blueberry', 'kiwi', 'strawberry', 'muskmelon', 'mango', 'apple']\n",
        "l2.insert(2,l3)\n",
        "print(l2)\n"
      ],
      "metadata": {
        "colab": {
          "base_uri": "https://localhost:8080/"
        },
        "id": "i1F5MoFoPa__",
        "outputId": "62a45dd1-fb66-48cf-8fa1-48189291bdd9"
      },
      "execution_count": null,
      "outputs": [
        {
          "output_type": "stream",
          "name": "stdout",
          "text": [
            "['orange', 'blueberry', (10, 20, 30), 'kiwi', 'strawberry', 'muskmelon', 'mango', 'apple']\n"
          ]
        }
      ]
    },
    {
      "cell_type": "code",
      "source": [
        "#removing of elements in list\n",
        "#remove(item or index numbers)\n",
        "#remove (10,20,30)\n",
        "l2=['orange', 'blueberry', (10, 20, 30), 'kiwi', 'strawberry', 'muskmelon', 'mango', 'apple']\n",
        "l2.remove(l2[2])\n",
        "print(l2)"
      ],
      "metadata": {
        "colab": {
          "base_uri": "https://localhost:8080/"
        },
        "id": "pZ_3VQmAPa9z",
        "outputId": "431f209b-b0f9-4778-86ed-a96dce7b4d21"
      },
      "execution_count": null,
      "outputs": [
        {
          "output_type": "stream",
          "name": "stdout",
          "text": [
            "['orange', 'blueberry', 'kiwi', 'strawberry', 'muskmelon', 'mango', 'apple']\n"
          ]
        }
      ]
    },
    {
      "cell_type": "code",
      "source": [
        "#pop:- pop(index)\n",
        "l4 = ['orange', 'blueberry', 'kiwi', 'strawberry', 'muskmelon', 'mango', 'apple']\n",
        "l4.pop()\n",
        "print(l4)"
      ],
      "metadata": {
        "colab": {
          "base_uri": "https://localhost:8080/"
        },
        "id": "6yhVQE_FPa60",
        "outputId": "e90c4042-7afa-4b4e-f148-7e3b98bc3307"
      },
      "execution_count": null,
      "outputs": [
        {
          "output_type": "stream",
          "name": "stdout",
          "text": [
            "['orange', 'blueberry', 'kiwi', 'strawberry', 'muskmelon', 'mango']\n"
          ]
        }
      ]
    },
    {
      "cell_type": "code",
      "source": [
        "#3rd delete\n",
        "l4 = ['orange', 'blueberry', 'kiwi', 'strawberry', 'muskmelon', 'mango', 'apple']\n",
        "del l4[2]\n",
        "print(l4)\n",
        "#del range of items\n",
        "del l4[1:4]\n",
        "print(l4)"
      ],
      "metadata": {
        "colab": {
          "base_uri": "https://localhost:8080/"
        },
        "id": "auzjzp2rPa2-",
        "outputId": "23a57967-8294-4aba-82e8-8059f2af2d60"
      },
      "execution_count": null,
      "outputs": [
        {
          "output_type": "stream",
          "name": "stdout",
          "text": [
            "['orange', 'blueberry', 'strawberry', 'muskmelon', 'mango', 'apple']\n",
            "['orange', 'mango', 'apple']\n"
          ]
        }
      ]
    },
    {
      "cell_type": "code",
      "source": [
        "#clear\n",
        "l4 = ['orange', 'blueberry', 'kiwi', 'strawberry', 'muskmelon', 'mango', 'apple']\n",
        "l4.clear()\n",
        "print(l4)"
      ],
      "metadata": {
        "colab": {
          "base_uri": "https://localhost:8080/"
        },
        "id": "ljsjnscbPa0C",
        "outputId": "35e85e96-c4bd-4fb3-d2ae-55593c753f5f"
      },
      "execution_count": null,
      "outputs": [
        {
          "output_type": "stream",
          "name": "stdout",
          "text": [
            "[]\n"
          ]
        }
      ]
    },
    {
      "cell_type": "code",
      "source": [
        "l6 = ['Orange', 'Blueberry', 'Kiwi', 'Strawberry', 'Muskmelon', 'Mango', 'APPLE','apple','blueberry']\n",
        "l6.sort(reverse = True)\n",
        "print(l6)"
      ],
      "metadata": {
        "colab": {
          "base_uri": "https://localhost:8080/"
        },
        "id": "E5RycvTXPaw6",
        "outputId": "10ae97dd-c780-408d-c9a9-0b5b033d6153"
      },
      "execution_count": null,
      "outputs": [
        {
          "output_type": "stream",
          "name": "stdout",
          "text": [
            "['blueberry', 'apple', 'Strawberry', 'Orange', 'Muskmelon', 'Mango', 'Kiwi', 'Blueberry', 'APPLE']\n"
          ]
        }
      ]
    },
    {
      "cell_type": "code",
      "source": [
        "#2nd collection\n",
        "#Tuple:--->()-->ordered(indexed),immutable(not changable),allow the duplicates\n",
        "t1 = ('blueberry', 'apple', 'Strawberry', 'Orange', 'Muskmelon', 'Mango', 'Kiwi', 'Blueberry', 'APPLE')\n",
        "print(t1)\n",
        "print(type(t1))\n",
        "print(t1[1:4])"
      ],
      "metadata": {
        "colab": {
          "base_uri": "https://localhost:8080/"
        },
        "id": "ub34S3YKPx00",
        "outputId": "10ef782f-0c1e-47e1-88e2-8f153c3c4827"
      },
      "execution_count": null,
      "outputs": [
        {
          "output_type": "stream",
          "name": "stdout",
          "text": [
            "('blueberry', 'apple', 'Strawberry', 'Orange', 'Muskmelon', 'Mango', 'Kiwi', 'Blueberry', 'APPLE')\n",
            "<class 'tuple'>\n",
            "('apple', 'Strawberry', 'Orange')\n"
          ]
        }
      ]
    },
    {
      "cell_type": "code",
      "source": [
        "#immutable\n",
        "t1 = ('blueberry', 'apple', 'Strawberry', 'Orange', 'Muskmelon', 'Mango', 'Kiwi', 'Blueberry', 'APPLE')\n",
        "t1[2]=\"watermelon\"\n",
        "print(t1)"
      ],
      "metadata": {
        "colab": {
          "base_uri": "https://localhost:8080/",
          "height": 193
        },
        "id": "nspIbhXBPxxq",
        "outputId": "02f88e5d-98c0-4851-b983-638e63261e3d"
      },
      "execution_count": null,
      "outputs": [
        {
          "output_type": "error",
          "ename": "TypeError",
          "evalue": "'tuple' object does not support item assignment",
          "traceback": [
            "\u001b[0;31m---------------------------------------------------------------------------\u001b[0m",
            "\u001b[0;31mTypeError\u001b[0m                                 Traceback (most recent call last)",
            "\u001b[0;32m<ipython-input-62-4824755d752d>\u001b[0m in \u001b[0;36m<cell line: 3>\u001b[0;34m()\u001b[0m\n\u001b[1;32m      1\u001b[0m \u001b[0;31m#immutable\u001b[0m\u001b[0;34m\u001b[0m\u001b[0;34m\u001b[0m\u001b[0m\n\u001b[1;32m      2\u001b[0m \u001b[0mt1\u001b[0m \u001b[0;34m=\u001b[0m \u001b[0;34m(\u001b[0m\u001b[0;34m'blueberry'\u001b[0m\u001b[0;34m,\u001b[0m \u001b[0;34m'apple'\u001b[0m\u001b[0;34m,\u001b[0m \u001b[0;34m'Strawberry'\u001b[0m\u001b[0;34m,\u001b[0m \u001b[0;34m'Orange'\u001b[0m\u001b[0;34m,\u001b[0m \u001b[0;34m'Muskmelon'\u001b[0m\u001b[0;34m,\u001b[0m \u001b[0;34m'Mango'\u001b[0m\u001b[0;34m,\u001b[0m \u001b[0;34m'Kiwi'\u001b[0m\u001b[0;34m,\u001b[0m \u001b[0;34m'Blueberry'\u001b[0m\u001b[0;34m,\u001b[0m \u001b[0;34m'APPLE'\u001b[0m\u001b[0;34m)\u001b[0m\u001b[0;34m\u001b[0m\u001b[0;34m\u001b[0m\u001b[0m\n\u001b[0;32m----> 3\u001b[0;31m \u001b[0mt1\u001b[0m\u001b[0;34m[\u001b[0m\u001b[0;36m2\u001b[0m\u001b[0;34m]\u001b[0m\u001b[0;34m=\u001b[0m\u001b[0;34m\"watermelon\"\u001b[0m\u001b[0;34m\u001b[0m\u001b[0;34m\u001b[0m\u001b[0m\n\u001b[0m\u001b[1;32m      4\u001b[0m \u001b[0mprint\u001b[0m\u001b[0;34m(\u001b[0m\u001b[0mt1\u001b[0m\u001b[0;34m)\u001b[0m\u001b[0;34m\u001b[0m\u001b[0;34m\u001b[0m\u001b[0m\n",
            "\u001b[0;31mTypeError\u001b[0m: 'tuple' object does not support item assignment"
          ]
        }
      ]
    },
    {
      "cell_type": "code",
      "source": [
        "#if you want to change the items in a tuple how can you do it?\n",
        "#what is diff between list and tuple\n",
        "#how can we change tuple in to list\n",
        "#when i shoul use the list and when i should use tuple?\n",
        "t1 = ('blueberry', 'apple', 'Strawberry', 'Orange', 'Muskmelon', 'Mango', 'Kiwi', 'Blueberry', 'APPLE')\n",
        "l1 = list(t1)\n",
        "print(type(l1))\n",
        "print(type(t1))"
      ],
      "metadata": {
        "colab": {
          "base_uri": "https://localhost:8080/"
        },
        "id": "vlv-ayJaPxvB",
        "outputId": "6385f238-e99c-49da-b027-cae212d81716"
      },
      "execution_count": null,
      "outputs": [
        {
          "output_type": "stream",
          "name": "stdout",
          "text": [
            "<class 'list'>\n",
            "<class 'tuple'>\n"
          ]
        }
      ]
    },
    {
      "cell_type": "code",
      "source": [
        "#set:-->{}\n",
        "#unoredered,it won't allow the duplicates,immutable(we can add item and remove the item)\n",
        "s1 = {'blueberry', 'apple', 'Strawberry', 'Orange', 'Muskmelon', 'Mango', 'Orange', 'blueberry', 'apple'}\n",
        "print(s1)\n",
        "print(type(s1))\n"
      ],
      "metadata": {
        "colab": {
          "base_uri": "https://localhost:8080/"
        },
        "id": "KyKvysJLPxsC",
        "outputId": "73d8f8e0-77cc-4fb9-d73e-dfb5b5209559"
      },
      "execution_count": null,
      "outputs": [
        {
          "output_type": "stream",
          "name": "stdout",
          "text": [
            "{'Muskmelon', 'Mango', 'Strawberry', 'blueberry', 'apple', 'Orange'}\n",
            "<class 'set'>\n"
          ]
        }
      ]
    },
    {
      "cell_type": "code",
      "source": [
        "print(s1[0])\n",
        "#why sets are faster than list and tuple?\n",
        "#"
      ],
      "metadata": {
        "colab": {
          "base_uri": "https://localhost:8080/",
          "height": 176
        },
        "id": "ULW-KgVGPxox",
        "outputId": "6b091c01-a591-4fe8-80aa-160ac41727e7"
      },
      "execution_count": null,
      "outputs": [
        {
          "output_type": "error",
          "ename": "TypeError",
          "evalue": "'set' object is not subscriptable",
          "traceback": [
            "\u001b[0;31m---------------------------------------------------------------------------\u001b[0m",
            "\u001b[0;31mTypeError\u001b[0m                                 Traceback (most recent call last)",
            "\u001b[0;32m<ipython-input-65-132a20310aca>\u001b[0m in \u001b[0;36m<cell line: 1>\u001b[0;34m()\u001b[0m\n\u001b[0;32m----> 1\u001b[0;31m \u001b[0mprint\u001b[0m\u001b[0;34m(\u001b[0m\u001b[0ms1\u001b[0m\u001b[0;34m[\u001b[0m\u001b[0;36m0\u001b[0m\u001b[0;34m]\u001b[0m\u001b[0;34m)\u001b[0m\u001b[0;34m\u001b[0m\u001b[0;34m\u001b[0m\u001b[0m\n\u001b[0m\u001b[1;32m      2\u001b[0m \u001b[0;31m#why sets are faster than list and tuple?\u001b[0m\u001b[0;34m\u001b[0m\u001b[0;34m\u001b[0m\u001b[0m\n\u001b[1;32m      3\u001b[0m \u001b[0;31m#\u001b[0m\u001b[0;34m\u001b[0m\u001b[0;34m\u001b[0m\u001b[0m\n",
            "\u001b[0;31mTypeError\u001b[0m: 'set' object is not subscriptable"
          ]
        }
      ]
    },
    {
      "cell_type": "code",
      "source": [
        "#add the items in the set\n",
        "s1 = {'blueberry', 'apple', 'Strawberry', 'Orange', 'Muskmelon', 'Mango', 'Orange', 'blueberry', 'apple'}\n",
        "s1.add('kiwi')\n",
        "print(s1)"
      ],
      "metadata": {
        "colab": {
          "base_uri": "https://localhost:8080/"
        },
        "id": "yrW_qzVbPxl0",
        "outputId": "1c7aee59-e47a-40ff-dfd6-21a88347cade"
      },
      "execution_count": null,
      "outputs": [
        {
          "output_type": "stream",
          "name": "stdout",
          "text": [
            "{'Muskmelon', 'kiwi', 'Mango', 'Strawberry', 'blueberry', 'apple', 'Orange'}\n"
          ]
        }
      ]
    },
    {
      "cell_type": "code",
      "source": [
        "#update\n",
        "s1 = {'blueberry', 'apple', 'Strawberry', 'Orange', 'Muskmelon', 'Mango', 'Orange', 'blueberry', 'apple'}\n",
        "s2=[1,2,3,4,5,6]\n",
        "s1.update(s2)\n",
        "print(s1)"
      ],
      "metadata": {
        "colab": {
          "base_uri": "https://localhost:8080/"
        },
        "id": "do0UbZTpPxiz",
        "outputId": "3a780198-716d-4016-9cb1-638d3ffa6ddc"
      },
      "execution_count": null,
      "outputs": [
        {
          "output_type": "stream",
          "name": "stdout",
          "text": [
            "{1, 2, 3, 4, 5, 6, 'Mango', 'Orange', 'Strawberry', 'blueberry', 'apple', 'Muskmelon'}\n"
          ]
        }
      ]
    },
    {
      "cell_type": "code",
      "source": [
        "s1 = {'blueberry', 'apple', 'Strawberry', 'Orange', 'Muskmelon', 'Mango', 'Orange', 'blueberry', 'apple'}\n",
        "s1.remove('Orange')\n",
        "print(s1)"
      ],
      "metadata": {
        "colab": {
          "base_uri": "https://localhost:8080/"
        },
        "id": "UDndFpB4Pxgt",
        "outputId": "f0c400c6-925a-44e3-af61-5918f1547e37"
      },
      "execution_count": null,
      "outputs": [
        {
          "output_type": "stream",
          "name": "stdout",
          "text": [
            "{'Mango', 'blueberry', 'Strawberry', 'Muskmelon', 'apple'}\n"
          ]
        }
      ]
    },
    {
      "cell_type": "code",
      "source": [
        "s1 = {'blueberry', 'apple', 'Strawberry', 'Orange', 'Muskmelon', 'Mango', 'Orange', 'blueberry', 'apple'}\n",
        "#discard method\n",
        "s1.discard(\"name\")\n",
        "print(s1)"
      ],
      "metadata": {
        "colab": {
          "base_uri": "https://localhost:8080/"
        },
        "id": "Msk2Zs2dPxcv",
        "outputId": "9982101d-1a90-4e7f-f37d-b71ad96ef14d"
      },
      "execution_count": null,
      "outputs": [
        {
          "output_type": "stream",
          "name": "stdout",
          "text": [
            "{'Mango', 'blueberry', 'Orange', 'Strawberry', 'Muskmelon', 'apple'}\n"
          ]
        }
      ]
    },
    {
      "cell_type": "code",
      "source": [
        "#why should i use remove /discard when one is enough?\n",
        "#3rd pop\n",
        "s1 = {'blueberry', 'apple', 'Strawberry', 'Orange', 'Muskmelon', 'Mango', 'Orange', 'blueberry', 'apple'}\n",
        "s1.pop()\n",
        "print(s1)"
      ],
      "metadata": {
        "id": "yjoG4OWiPxZZ",
        "colab": {
          "base_uri": "https://localhost:8080/"
        },
        "outputId": "32ef8de9-6e11-4af4-9c00-58d2c1f37588"
      },
      "execution_count": null,
      "outputs": [
        {
          "output_type": "stream",
          "name": "stdout",
          "text": [
            "{'Orange', 'Strawberry', 'apple', 'Muskmelon', 'blueberry'}\n"
          ]
        }
      ]
    },
    {
      "cell_type": "code",
      "source": [
        "#del\n",
        "del s1\n",
        "print(s1)\n"
      ],
      "metadata": {
        "colab": {
          "base_uri": "https://localhost:8080/",
          "height": 176
        },
        "id": "3srxwhn6PxWZ",
        "outputId": "bf959f9e-3262-47fa-c7f1-3c65b02b6762"
      },
      "execution_count": null,
      "outputs": [
        {
          "output_type": "error",
          "ename": "NameError",
          "evalue": "name 's1' is not defined",
          "traceback": [
            "\u001b[0;31m---------------------------------------------------------------------------\u001b[0m",
            "\u001b[0;31mNameError\u001b[0m                                 Traceback (most recent call last)",
            "\u001b[0;32m<ipython-input-71-94fbcbd3fc1b>\u001b[0m in \u001b[0;36m<cell line: 3>\u001b[0;34m()\u001b[0m\n\u001b[1;32m      1\u001b[0m \u001b[0;31m#del\u001b[0m\u001b[0;34m\u001b[0m\u001b[0;34m\u001b[0m\u001b[0m\n\u001b[1;32m      2\u001b[0m \u001b[0;32mdel\u001b[0m \u001b[0ms1\u001b[0m\u001b[0;34m\u001b[0m\u001b[0;34m\u001b[0m\u001b[0m\n\u001b[0;32m----> 3\u001b[0;31m \u001b[0mprint\u001b[0m\u001b[0;34m(\u001b[0m\u001b[0ms1\u001b[0m\u001b[0;34m)\u001b[0m\u001b[0;34m\u001b[0m\u001b[0;34m\u001b[0m\u001b[0m\n\u001b[0m",
            "\u001b[0;31mNameError\u001b[0m: name 's1' is not defined"
          ]
        }
      ]
    },
    {
      "cell_type": "code",
      "source": [
        "s2 ={1, 'apple', 3, 4, 5, 6, 'Strawberry', 'Muskmelon', 'Orange', 'kiwi'}\n",
        "s2.clear()\n",
        "print(s2)"
      ],
      "metadata": {
        "colab": {
          "base_uri": "https://localhost:8080/"
        },
        "id": "ZGNns7mXPxTK",
        "outputId": "911fb740-4a1e-43e3-915c-5bea13ce6de3"
      },
      "execution_count": null,
      "outputs": [
        {
          "output_type": "stream",
          "name": "stdout",
          "text": [
            "set()\n"
          ]
        }
      ]
    },
    {
      "cell_type": "code",
      "source": [
        "#what is main reason we use sets?\n",
        "s1 ={'a','b','c','d'}\n",
        "s2 ={'d','e','f','g'}\n",
        "s4=s1.intersection(s2)\n",
        "print(s4)\n",
        "\n"
      ],
      "metadata": {
        "colab": {
          "base_uri": "https://localhost:8080/"
        },
        "id": "uw6p05QuPxQO",
        "outputId": "60fcfdb4-f8ca-47d5-bc3f-ba85cbfc4594"
      },
      "execution_count": null,
      "outputs": [
        {
          "output_type": "stream",
          "name": "stdout",
          "text": [
            "{'d'}\n"
          ]
        }
      ]
    },
    {
      "cell_type": "code",
      "source": [
        "\n",
        "s1 ={'a','b','c','d'}\n",
        "s3=s1.union(s2)\n",
        "print(s3)"
      ],
      "metadata": {
        "colab": {
          "base_uri": "https://localhost:8080/"
        },
        "id": "rEmatQtgPxM-",
        "outputId": "8d66b2e2-4ab2-47be-9ce3-4971c47cfd1e"
      },
      "execution_count": null,
      "outputs": [
        {
          "output_type": "stream",
          "name": "stdout",
          "text": [
            "{'f', 'g', 'c', 'a', 'b', 'd', 'e'}\n"
          ]
        }
      ]
    },
    {
      "cell_type": "code",
      "source": [
        "#1.Dictionary\n",
        "#where we can store items in a dictionary?\n",
        "#key : value - pairs\n",
        "#{}\n",
        "d = {\"name\" : \"ram\" ,\n",
        "      \"f_name\" : \" eve\",\n",
        "      \"age\" : 23}\n",
        "print(d)"
      ],
      "metadata": {
        "colab": {
          "base_uri": "https://localhost:8080/"
        },
        "id": "EXeS0WAgPxJz",
        "outputId": "60b8fa91-cb8e-4a96-d1f0-891262669eff"
      },
      "execution_count": null,
      "outputs": [
        {
          "output_type": "stream",
          "name": "stdout",
          "text": [
            "{'name': 'ram', 'f_name': ' eve', 'age': 23}\n"
          ]
        }
      ]
    },
    {
      "cell_type": "code",
      "source": [
        "print(d.keys())\n",
        "print(d.values())"
      ],
      "metadata": {
        "colab": {
          "base_uri": "https://localhost:8080/"
        },
        "id": "y4xUMdEnPxGq",
        "outputId": "73c51ab8-564d-426e-cb59-8a2145c912c5"
      },
      "execution_count": null,
      "outputs": [
        {
          "output_type": "stream",
          "name": "stdout",
          "text": [
            "dict_keys(['name', 'f_name', 'age'])\n",
            "dict_values(['ram', ' eve', 23])\n"
          ]
        }
      ]
    },
    {
      "cell_type": "code",
      "source": [
        "print(d.items()) # getting key values as tuples inside list"
      ],
      "metadata": {
        "id": "Y1UjemjhPxDe",
        "colab": {
          "base_uri": "https://localhost:8080/"
        },
        "outputId": "96c748b6-1583-4158-f834-c9816a532aaa"
      },
      "execution_count": null,
      "outputs": [
        {
          "output_type": "stream",
          "name": "stdout",
          "text": [
            "dict_items([('name', 'ram'), ('f_name', ' eve'), ('age', 23)])\n"
          ]
        }
      ]
    },
    {
      "cell_type": "code",
      "source": [
        "#q) python is a interreted language ?\n",
        "d = {\"name\" : \"ram\" ,\n",
        "      \"f_name\" : \" eve\",\n",
        "      \"age\" : 23,\n",
        "      \"age\": 25}\n",
        "print(d)"
      ],
      "metadata": {
        "colab": {
          "base_uri": "https://localhost:8080/"
        },
        "id": "Dd-kU4SYPxAm",
        "outputId": "468157e1-ff88-4cb3-c098-6b8a2f896981"
      },
      "execution_count": null,
      "outputs": [
        {
          "output_type": "stream",
          "name": "stdout",
          "text": [
            "{'name': 'ram', 'f_name': ' eve', 'age': 25}\n"
          ]
        }
      ]
    },
    {
      "cell_type": "code",
      "source": [
        "# dictionaries are unrdered as keys and ordered as values means we can access the values with help of keys\n",
        "print(len(d)) # wont allow the duplicates"
      ],
      "metadata": {
        "colab": {
          "base_uri": "https://localhost:8080/"
        },
        "id": "_LlBXRU2Pw9h",
        "outputId": "888e9f61-0cec-4b77-8f28-d874161bcc4c"
      },
      "execution_count": null,
      "outputs": [
        {
          "output_type": "stream",
          "name": "stdout",
          "text": [
            "3\n"
          ]
        }
      ]
    },
    {
      "cell_type": "code",
      "source": [
        "# How can i access the items in a dictionary\n",
        "print(d['name'])\n",
        "print(d.get('name'))"
      ],
      "metadata": {
        "colab": {
          "base_uri": "https://localhost:8080/"
        },
        "id": "rCEgbrniPw6e",
        "outputId": "c47bbfaa-4adc-4571-aa51-b5f31e6f85a9"
      },
      "execution_count": null,
      "outputs": [
        {
          "output_type": "stream",
          "name": "stdout",
          "text": [
            "ram\n",
            "ram\n"
          ]
        }
      ]
    },
    {
      "cell_type": "code",
      "source": [
        "# How can we change the values for particular keys\n",
        "d['name'] = 'Alisa'\n",
        "print(d)"
      ],
      "metadata": {
        "colab": {
          "base_uri": "https://localhost:8080/"
        },
        "id": "nA5H9M1NPw3X",
        "outputId": "4bb1fafb-835c-4019-c515-aaed769174d5"
      },
      "execution_count": null,
      "outputs": [
        {
          "output_type": "stream",
          "name": "stdout",
          "text": [
            "{'name': 'Alisa', 'f_name': ' eve', 'age': 25}\n"
          ]
        }
      ]
    },
    {
      "cell_type": "code",
      "source": [
        "# similarly we can use --udpate\n",
        "d.update({'name' : 'Healy'})\n",
        "print(d)"
      ],
      "metadata": {
        "colab": {
          "base_uri": "https://localhost:8080/"
        },
        "id": "geKjfIBqPw0Q",
        "outputId": "008d8048-7584-418a-e153-0c6672fccaa2"
      },
      "execution_count": null,
      "outputs": [
        {
          "output_type": "stream",
          "name": "stdout",
          "text": [
            "{'name': 'Healy', 'f_name': ' eve', 'age': 25}\n"
          ]
        }
      ]
    },
    {
      "cell_type": "code",
      "source": [
        "# How can i add a new key : value pair\n",
        "d['add'] = 'Aus'\n",
        "print(d)"
      ],
      "metadata": {
        "colab": {
          "base_uri": "https://localhost:8080/"
        },
        "id": "Jws6FRxWPwxJ",
        "outputId": "4b710d31-b759-48b6-9ccc-65206ea59e23"
      },
      "execution_count": null,
      "outputs": [
        {
          "output_type": "stream",
          "name": "stdout",
          "text": [
            "{'name': 'Healy', 'f_name': ' eve', 'age': 25, 'add': 'Aus'}\n"
          ]
        }
      ]
    },
    {
      "cell_type": "code",
      "source": [
        "# if the input keys are present in dict the\n",
        "#values are updated or else new pairs are added for --- update and upadting values\n",
        "# how can we remove values ?\n",
        "d.pop('name')\n",
        "print(d)"
      ],
      "metadata": {
        "colab": {
          "base_uri": "https://localhost:8080/"
        },
        "id": "Dqi-n3LHPwuA",
        "outputId": "c4e23fe2-cfde-4cc8-dc58-e3cd8f9591fa"
      },
      "execution_count": null,
      "outputs": [
        {
          "output_type": "stream",
          "name": "stdout",
          "text": [
            "{'f_name': ' eve', 'age': 25, 'add': 'Aus'}\n"
          ]
        }
      ]
    },
    {
      "cell_type": "code",
      "source": [
        "#list in dictionary\n",
        "d = {\"name\" : [\"ram\" , \" Charan\"] ,\n",
        "     \"f_name\" : \" eve\",\n",
        "      \"age\" : 23}\n",
        "d['name'][1] = 'perry'\n",
        "print(d)"
      ],
      "metadata": {
        "colab": {
          "base_uri": "https://localhost:8080/"
        },
        "id": "xE5HLp6BPwrF",
        "outputId": "1e775452-bd2d-4ea6-ca4e-4eb0219292d3"
      },
      "execution_count": null,
      "outputs": [
        {
          "output_type": "stream",
          "name": "stdout",
          "text": [
            "{'name': ['ram', 'perry'], 'f_name': ' eve', 'age': 23}\n"
          ]
        }
      ]
    },
    {
      "cell_type": "code",
      "source": [
        "#add new items into the list in names ?\n",
        "d['name'].append('smriti')\n",
        "print(d)\n"
      ],
      "metadata": {
        "colab": {
          "base_uri": "https://localhost:8080/"
        },
        "id": "g4zBzOt_PwoW",
        "outputId": "29dccf44-14fa-4e5d-f309-8681d7546037"
      },
      "execution_count": null,
      "outputs": [
        {
          "output_type": "stream",
          "name": "stdout",
          "text": [
            "{'name': ['ram', 'perry', 'smriti'], 'f_name': ' eve', 'age': 23}\n"
          ]
        }
      ]
    },
    {
      "cell_type": "code",
      "source": [
        "# print only smriti\n",
        "print(d['name'][2])"
      ],
      "metadata": {
        "colab": {
          "base_uri": "https://localhost:8080/"
        },
        "id": "MLTXuT2BPwmO",
        "outputId": "35cfca6f-6d16-42a9-e57e-64a3c2829a17"
      },
      "execution_count": null,
      "outputs": [
        {
          "output_type": "stream",
          "name": "stdout",
          "text": [
            "smriti\n"
          ]
        }
      ]
    },
    {
      "cell_type": "code",
      "source": [
        "del d['name'][2] # del dict_name[key_name][index_no]\n",
        "print(d)"
      ],
      "metadata": {
        "colab": {
          "base_uri": "https://localhost:8080/"
        },
        "id": "4hD_LHyHPwiz",
        "outputId": "24d82dfa-8ac4-42d4-ea60-115b42656233"
      },
      "execution_count": null,
      "outputs": [
        {
          "output_type": "stream",
          "name": "stdout",
          "text": [
            "{'name': ['ram', 'perry'], 'f_name': ' eve', 'age': 23}\n"
          ]
        }
      ]
    },
    {
      "cell_type": "code",
      "source": [
        "d.clear()\n",
        "print(d)"
      ],
      "metadata": {
        "colab": {
          "base_uri": "https://localhost:8080/"
        },
        "id": "vzY230kBPwfW",
        "outputId": "b718d62e-7328-4633-cdb8-a4bf024c33ae"
      },
      "execution_count": null,
      "outputs": [
        {
          "output_type": "stream",
          "name": "stdout",
          "text": [
            "{}\n"
          ]
        }
      ]
    },
    {
      "cell_type": "code",
      "source": [
        "# Working with loops in a dictionary\n",
        "\n",
        "d = {\"name\" : \"ram\" ,\n",
        "      \"f_name\" : \" eve\",\n",
        "      \"age\" : 23,\n",
        "      \"age\": 25}\n",
        "for i in d.keys():\n",
        "  print(i)\n",
        "# get all the keys as a output\n",
        "\n"
      ],
      "metadata": {
        "colab": {
          "base_uri": "https://localhost:8080/"
        },
        "id": "3dy1D-H8Pwcp",
        "outputId": "72343481-cb56-430c-8eaf-870a519fd5b0"
      },
      "execution_count": null,
      "outputs": [
        {
          "output_type": "stream",
          "name": "stdout",
          "text": [
            "name\n",
            "f_name\n",
            "age\n"
          ]
        }
      ]
    },
    {
      "cell_type": "code",
      "source": [
        "for i,j in d.items():\n",
        "  print(i,j)\n"
      ],
      "metadata": {
        "id": "U8UxFquaPwZu"
      },
      "execution_count": null,
      "outputs": []
    },
    {
      "cell_type": "code",
      "source": [
        "for x in d.keys():\n",
        "  print(f'{x} = {d[x]}')"
      ],
      "metadata": {
        "id": "usXFmkj3PwWi"
      },
      "execution_count": null,
      "outputs": []
    },
    {
      "cell_type": "code",
      "source": [
        "#Dict - {} unordered , wont allow the duplicates, values are changable and keys are unchangable\n",
        "# List - [] ordered , allow duplicates , mutable\n",
        "# tuple - () ordered , allow duplicates , immutable\n",
        "# set - {} unordered , wont allow duplicates , immutable"
      ],
      "metadata": {
        "id": "wW9g4MrrPwTw"
      },
      "execution_count": null,
      "outputs": []
    },
    {
      "cell_type": "markdown",
      "source": [
        "Functions ---"
      ],
      "metadata": {
        "id": "QCn5fhuoRU0H"
      }
    },
    {
      "cell_type": "code",
      "source": [
        "#what is a Function\n",
        "# it is a block of code which only runs when it is called\n",
        "# what is the purpose of functions?\n",
        "# -- reduces the time and memory\n",
        "# -- reduces the limitations of the code means encourages writing DRY codes\n",
        "# purpose of function is wjen you want to repeat a block of code at random interval of time , just we can call\n"
      ],
      "metadata": {
        "id": "5FQYqTPlPwQw"
      },
      "execution_count": null,
      "outputs": []
    },
    {
      "cell_type": "code",
      "source": [
        "def fun():\n",
        "  print(\"Hello World!\")\n",
        "fun()"
      ],
      "metadata": {
        "colab": {
          "base_uri": "https://localhost:8080/"
        },
        "id": "79t-2YCmPwOj",
        "outputId": "62440e19-c47b-42d0-dd75-8f7f7e385f51"
      },
      "execution_count": null,
      "outputs": [
        {
          "output_type": "stream",
          "name": "stdout",
          "text": [
            "Hello World!\n"
          ]
        }
      ]
    },
    {
      "cell_type": "code",
      "source": [
        "def f2(name):\n",
        "  print(name)\n",
        "f2('Ven')"
      ],
      "metadata": {
        "colab": {
          "base_uri": "https://localhost:8080/"
        },
        "id": "6YxksxxyPwLR",
        "outputId": "16ea521e-2b67-4c6d-a2e6-23da7cb975b6"
      },
      "execution_count": null,
      "outputs": [
        {
          "output_type": "stream",
          "name": "stdout",
          "text": [
            "Ven\n"
          ]
        }
      ]
    },
    {
      "cell_type": "code",
      "source": [
        "# what is a parameter?\n",
        "# -- variables inside the func definition\n",
        "# what is arguments?\n",
        "# -- the values inside the fun call\n",
        "# why we are using parameters and arguments\n",
        "#-- passing the information in fund def\n"
      ],
      "metadata": {
        "id": "8bcAbUZnPwIZ"
      },
      "execution_count": null,
      "outputs": []
    },
    {
      "cell_type": "code",
      "source": [
        "def fun(a,b):\n",
        "  print(\"The sum is\",a+b)\n",
        "fun(2,3)"
      ],
      "metadata": {
        "colab": {
          "base_uri": "https://localhost:8080/"
        },
        "id": "-7etPZ0PPwFl",
        "outputId": "da8d4d03-cf90-4d22-c663-f4d11f563104"
      },
      "execution_count": null,
      "outputs": [
        {
          "output_type": "stream",
          "name": "stdout",
          "text": [
            "The sum is 5\n"
          ]
        }
      ]
    },
    {
      "cell_type": "code",
      "source": [
        "# how can we print a function without raising an error ?\n",
        "def fun(name):\n",
        "  pass"
      ],
      "metadata": {
        "id": "sT5KEJAyPwCf"
      },
      "execution_count": null,
      "outputs": []
    },
    {
      "cell_type": "code",
      "source": [
        "# creating default parameter\n",
        "def fun(name = \"Venki\"):\n",
        "  print(name)\n",
        "fun(\"EVE\")\n",
        "fun()"
      ],
      "metadata": {
        "colab": {
          "base_uri": "https://localhost:8080/"
        },
        "id": "fUVMVQ32ReW8",
        "outputId": "e376d810-b562-405e-835a-ac9a4ea32515"
      },
      "execution_count": null,
      "outputs": [
        {
          "output_type": "stream",
          "name": "stdout",
          "text": [
            "EVE\n",
            "Venki\n"
          ]
        }
      ]
    },
    {
      "cell_type": "code",
      "source": [
        "# what do i do when i dont know how many arguments do i need to pass?\n",
        "def fun(a,b,c,d):\n",
        "  print(\"hello\",a)\n",
        "fun(1,2,3,4)"
      ],
      "metadata": {
        "colab": {
          "base_uri": "https://localhost:8080/"
        },
        "id": "NpoULR2qReTZ",
        "outputId": "cb64f860-56ee-4157-e15a-aca042ab40d1"
      },
      "execution_count": null,
      "outputs": [
        {
          "output_type": "stream",
          "name": "stdout",
          "text": [
            "hello 1\n"
          ]
        }
      ]
    },
    {
      "cell_type": "code",
      "source": [
        "#when i dont know how many arguments do i need to pass in fun definition -- use *?\n",
        "def fun(*a):\n",
        "  print(a)\n",
        "fun(1,2,3,4) # data type is tuple"
      ],
      "metadata": {
        "colab": {
          "base_uri": "https://localhost:8080/"
        },
        "id": "0IReFp_SReRF",
        "outputId": "25758bdd-2045-4829-9229-b5d05b372f8e"
      },
      "execution_count": null,
      "outputs": [
        {
          "output_type": "stream",
          "name": "stdout",
          "text": [
            "(1, 2, 3, 4)\n"
          ]
        }
      ]
    },
    {
      "cell_type": "code",
      "source": [
        "# when i don't know how many parameters in fun call -- use **?\n",
        "def fun(**a):\n",
        "  print(a)\n",
        "fun(a=1,b=3) ## data type is dictionary\n",
        "\n",
        "# technical names\n",
        "# * --> Arditary arguments--> when don't know how many arguments youa are send (aurgs)--> default data type is tuple\n",
        "# ** --> arbitary keyword arguments (kwurgs) --> default data type is dictionary"
      ],
      "metadata": {
        "colab": {
          "base_uri": "https://localhost:8080/"
        },
        "id": "1ZYvTAi6ReOW",
        "outputId": "9c86f555-c353-4852-f090-ee30626b942e"
      },
      "execution_count": null,
      "outputs": [
        {
          "output_type": "stream",
          "name": "stdout",
          "text": [
            "{'a': 1, 'b': 3}\n"
          ]
        }
      ]
    },
    {
      "cell_type": "code",
      "source": [
        "#Return Keyword\n",
        "def fun(a):\n",
        "  return a\n",
        "print(fun(3))"
      ],
      "metadata": {
        "colab": {
          "base_uri": "https://localhost:8080/"
        },
        "id": "95nlSo4xRrHH",
        "outputId": "0c351765-6906-4c14-ad8c-23c9cd825c54"
      },
      "execution_count": null,
      "outputs": [
        {
          "output_type": "stream",
          "name": "stdout",
          "text": [
            "3\n"
          ]
        }
      ]
    },
    {
      "cell_type": "code",
      "source": [
        "def sum(a,b):\n",
        "  print(a+b)\n",
        "a=int(input())\n",
        "b=int(input())\n",
        "sum(a,b)"
      ],
      "metadata": {
        "colab": {
          "base_uri": "https://localhost:8080/"
        },
        "id": "o6_YzS8ZRrD0",
        "outputId": "d2f9849e-8da3-4bfb-d9ed-eb37e69ae7c9"
      },
      "execution_count": null,
      "outputs": [
        {
          "output_type": "stream",
          "name": "stdout",
          "text": [
            "2\n",
            "3\n",
            "5\n"
          ]
        }
      ]
    },
    {
      "cell_type": "code",
      "source": [
        "def sum(a,b):\n",
        "  print(\"The sum is\",a+b)\n",
        "def sub(a,b):\n",
        "  print(\"The subraction is\",a-b)\n",
        "def mul(a,b):\n",
        "  print(\"The Multiplication is\",a*b)\n",
        "def Div(a,b):\n",
        "  print(\"The Division is\",a%b)\n",
        "\n",
        "sum(2,3)\n",
        "sub(5,2)\n",
        "mul(2,3)\n",
        "Div(10,5)\n",
        "\n",
        "\n",
        "\n"
      ],
      "metadata": {
        "colab": {
          "base_uri": "https://localhost:8080/"
        },
        "id": "4oc50G4HRrB6",
        "outputId": "4b175c13-de0e-40ca-a74e-273c3acba2d4"
      },
      "execution_count": null,
      "outputs": [
        {
          "output_type": "stream",
          "name": "stdout",
          "text": [
            "The sum is 5\n",
            "The subraction is 3\n",
            "The Multiplication is 6\n",
            "The Division is 0\n"
          ]
        }
      ]
    },
    {
      "cell_type": "code",
      "source": [
        "\n",
        "\n",
        "def addition(s,num):\n",
        "  for i in range(1,num+1):\n",
        "    s=s+i\n",
        "  print(\"The sum is\",s)\n",
        "\n",
        "num = int(input())\n",
        "\n",
        "addition(0,num)\n"
      ],
      "metadata": {
        "colab": {
          "base_uri": "https://localhost:8080/"
        },
        "id": "xR8Gkwy-Rq_6",
        "outputId": "1ddd9ad8-67ad-4b21-f8aa-f608d42a4928"
      },
      "execution_count": null,
      "outputs": [
        {
          "output_type": "stream",
          "name": "stdout",
          "text": [
            "3\n",
            "The sum is 6\n"
          ]
        }
      ]
    },
    {
      "cell_type": "markdown",
      "source": [
        "List Comprehension"
      ],
      "metadata": {
        "id": "blzk8-71R32A"
      }
    },
    {
      "cell_type": "code",
      "source": [
        "# it offers the samller line of code that you can use to create new list from the existing list\n",
        "l = [\"ellyse\" , \" perry\", \"eve\"]\n",
        "# create a new list fron above\n",
        "new_l = []\n",
        "'''\n",
        "for x in l:\n",
        "  if \"e\" in x:\n",
        "    new_l.append(x)\n",
        "  print(new_l)\n",
        "'''\n",
        "  # create a new list that is having letter n \"i\"\n",
        "for x in l:\n",
        "  if \"r\" in x:\n",
        "    new_l.append(x)\n",
        "  print(new_l)\n"
      ],
      "metadata": {
        "colab": {
          "base_uri": "https://localhost:8080/"
        },
        "id": "LC-l51nyRq8h",
        "outputId": "5878ddb1-9e9d-4eae-c1c2-c08cfb735e3a"
      },
      "execution_count": null,
      "outputs": [
        {
          "output_type": "stream",
          "name": "stdout",
          "text": [
            "[]\n",
            "[' perry']\n",
            "[' perry']\n"
          ]
        }
      ]
    },
    {
      "cell_type": "code",
      "source": [
        "l = [\"ellyse\" , \" perry\", \"eve\"]\n",
        "# create a new list fron above\n",
        "new_l = [ x for x in l if \"e\" in x]\n",
        "print(new_l)\n"
      ],
      "metadata": {
        "colab": {
          "base_uri": "https://localhost:8080/"
        },
        "id": "IrUiV_76Rq4k",
        "outputId": "6cfb4e7a-6155-48fc-ef34-4c9160ed68d4"
      },
      "execution_count": null,
      "outputs": [
        {
          "output_type": "stream",
          "name": "stdout",
          "text": [
            "['ellyse', ' perry', 'eve']\n"
          ]
        }
      ]
    },
    {
      "cell_type": "code",
      "source": [
        "# print new list without eve\n",
        "l = [\"ellyse\" , \" perry\", \"eve\"]\n",
        "# create a new list fron above\n",
        "new_l = [ x for x in l if \"eve\" not in x]\n",
        "print(new_l)\n"
      ],
      "metadata": {
        "colab": {
          "base_uri": "https://localhost:8080/"
        },
        "id": "4r8InWP7Rq1n",
        "outputId": "0afd9647-a1ba-41b0-8677-d235c346e2fb"
      },
      "execution_count": null,
      "outputs": [
        {
          "output_type": "stream",
          "name": "stdout",
          "text": [
            "['ellyse', ' perry']\n"
          ]
        }
      ]
    },
    {
      "cell_type": "code",
      "source": [
        "# create a list of numbers from 0 to 20\n",
        "new_l = []\n",
        "for i in range(0,21):\n",
        "  new_l.append(i)\n",
        "print(new_l)\n",
        "\n",
        "new_l1 = [ x for x in range(0,21)]\n",
        "print(new_l1)"
      ],
      "metadata": {
        "colab": {
          "base_uri": "https://localhost:8080/"
        },
        "id": "SThbsAz_Rqyl",
        "outputId": "dfc4e02c-5e30-44f1-e701-65bf639d6760"
      },
      "execution_count": null,
      "outputs": [
        {
          "output_type": "stream",
          "name": "stdout",
          "text": [
            "[0, 1, 2, 3, 4, 5, 6, 7, 8, 9, 10, 11, 12, 13, 14, 15, 16, 17, 18, 19, 20]\n",
            "[0, 1, 2, 3, 4, 5, 6, 7, 8, 9, 10, 11, 12, 13, 14, 15, 16, 17, 18, 19, 20]\n"
          ]
        }
      ]
    },
    {
      "cell_type": "code",
      "source": [
        "# create a list of even numbers and list of odd numbersthe range of 100\n",
        "eve_l = [ x for x in range(101) if x%2 == 0]\n",
        "print(eve_l)\n",
        "\n",
        "odd_l = [ x for x in range(101) if x%2 != 0]\n",
        "print(odd_l)\n",
        "\n"
      ],
      "metadata": {
        "colab": {
          "base_uri": "https://localhost:8080/"
        },
        "id": "hUKofqLsRqvl",
        "outputId": "e71c221b-86e2-44c8-c841-ca5f0c3cb9c3"
      },
      "execution_count": null,
      "outputs": [
        {
          "output_type": "stream",
          "name": "stdout",
          "text": [
            "[0, 2, 4, 6, 8, 10, 12, 14, 16, 18, 20, 22, 24, 26, 28, 30, 32, 34, 36, 38, 40, 42, 44, 46, 48, 50, 52, 54, 56, 58, 60, 62, 64, 66, 68, 70, 72, 74, 76, 78, 80, 82, 84, 86, 88, 90, 92, 94, 96, 98, 100]\n",
            "[1, 3, 5, 7, 9, 11, 13, 15, 17, 19, 21, 23, 25, 27, 29, 31, 33, 35, 37, 39, 41, 43, 45, 47, 49, 51, 53, 55, 57, 59, 61, 63, 65, 67, 69, 71, 73, 75, 77, 79, 81, 83, 85, 87, 89, 91, 93, 95, 97, 99]\n"
          ]
        }
      ]
    },
    {
      "cell_type": "code",
      "source": [
        "# why we prefer LC over loops?\n",
        "# LC is faster than loops"
      ],
      "metadata": {
        "id": "dj4sSu-uRqsi"
      },
      "execution_count": null,
      "outputs": []
    },
    {
      "cell_type": "code",
      "source": [
        "# print a list that having multiples of 2\n",
        "\n",
        "l = [ x * 2  for x in range(10) ]\n",
        "print(l)"
      ],
      "metadata": {
        "colab": {
          "base_uri": "https://localhost:8080/"
        },
        "id": "6TzK4jjSRqps",
        "outputId": "215e5d3e-1eb8-4572-fcdd-521b03d156ad"
      },
      "execution_count": null,
      "outputs": [
        {
          "output_type": "stream",
          "name": "stdout",
          "text": [
            "[0, 2, 4, 6, 8, 10, 12, 14, 16, 18]\n"
          ]
        }
      ]
    },
    {
      "cell_type": "markdown",
      "source": [
        "Lambda Function -------"
      ],
      "metadata": {
        "id": "SfPVoFU7SHiA"
      }
    },
    {
      "cell_type": "code",
      "source": [
        "# what is lambda?\n",
        "# it is an ananymous function - means it doesn't have any name\n",
        "\n",
        "# syntax -----     lambda arguments : expression -- many arguments and single expression\n",
        "\n",
        "# expression -- if some statements / calculations / steps using that values to give single value\n",
        "# lambda allows only on eexpression\n",
        "\n",
        "x = lambda c : c*30\n",
        "print(x(20))\n",
        "\n"
      ],
      "metadata": {
        "colab": {
          "base_uri": "https://localhost:8080/"
        },
        "id": "GatO6ut4RqmT",
        "outputId": "79395cb3-ab16-4ef0-c3c4-52ff9e311975"
      },
      "execution_count": null,
      "outputs": [
        {
          "output_type": "stream",
          "name": "stdout",
          "text": [
            "600\n"
          ]
        }
      ]
    },
    {
      "cell_type": "code",
      "source": [
        "x = lambda a,b,c : a+b+(c*10)\n",
        "print(x(8,5,4))"
      ],
      "metadata": {
        "colab": {
          "base_uri": "https://localhost:8080/"
        },
        "id": "xUjc1Hk4SJ-Q",
        "outputId": "b4156499-0339-457f-89b9-677f4cc50255"
      },
      "execution_count": null,
      "outputs": [
        {
          "output_type": "stream",
          "name": "stdout",
          "text": [
            "53\n"
          ]
        }
      ]
    },
    {
      "cell_type": "code",
      "source": [
        "x = lambda a : a*a\n",
        "print(x(7))\n"
      ],
      "metadata": {
        "colab": {
          "base_uri": "https://localhost:8080/"
        },
        "id": "2kKKwxekSKpT",
        "outputId": "b13fe6cb-5d17-4291-84ea-d4d8527e211c"
      },
      "execution_count": null,
      "outputs": [
        {
          "output_type": "stream",
          "name": "stdout",
          "text": [
            "49\n"
          ]
        }
      ]
    },
    {
      "cell_type": "code",
      "source": [
        "def sqrt(x):\n",
        "  return x ** 0.5\n",
        "print(int(sqrt(25)))"
      ],
      "metadata": {
        "colab": {
          "base_uri": "https://localhost:8080/"
        },
        "id": "sIZAO_HBSKmq",
        "outputId": "b6a87276-69b2-45cb-b7c9-146df1924a51"
      },
      "execution_count": null,
      "outputs": [
        {
          "output_type": "stream",
          "name": "stdout",
          "text": [
            "5\n"
          ]
        }
      ]
    },
    {
      "cell_type": "code",
      "source": [
        "def power(n):\n",
        "  return lambda x : x** n\n",
        "# call the function\n",
        "square = power(2)\n",
        "\n",
        "print(square(3))"
      ],
      "metadata": {
        "colab": {
          "base_uri": "https://localhost:8080/"
        },
        "id": "PCn2N8b8SKkA",
        "outputId": "83c44de9-4e29-420d-9797-1f6594fe3f74"
      },
      "execution_count": null,
      "outputs": [
        {
          "output_type": "stream",
          "name": "stdout",
          "text": [
            "9\n"
          ]
        }
      ]
    },
    {
      "cell_type": "code",
      "source": [
        "x = \"perry\"\n",
        "\n",
        "# create a fun\n",
        "\n",
        "def fun():\n",
        "  print(x)\n",
        "fun()"
      ],
      "metadata": {
        "colab": {
          "base_uri": "https://localhost:8080/"
        },
        "id": "uNuHVSn6SKhT",
        "outputId": "7dd9dd9c-da2f-40e5-be31-dbd712caf868"
      },
      "execution_count": null,
      "outputs": [
        {
          "output_type": "stream",
          "name": "stdout",
          "text": [
            "perry\n"
          ]
        }
      ]
    },
    {
      "cell_type": "code",
      "source": [
        "# what is a global variable?\n",
        "# A variable that will create outside the function\n",
        "\n",
        "# Note :- local variable created inside a function is temporary it only lost inside the function\n"
      ],
      "metadata": {
        "id": "EbIepgsDSKe4"
      },
      "execution_count": null,
      "outputs": []
    },
    {
      "cell_type": "markdown",
      "source": [
        "Local Variable"
      ],
      "metadata": {
        "id": "O2r5mc_6SYlr"
      }
    },
    {
      "cell_type": "code",
      "source": [
        "# what is a local variable\n",
        "# a varable is create inside the fun\n"
      ],
      "metadata": {
        "id": "-1AZKWhsSKcn"
      },
      "execution_count": null,
      "outputs": []
    },
    {
      "cell_type": "markdown",
      "source": [
        "MAP --- FUnction-----"
      ],
      "metadata": {
        "id": "UqAiT55wSeLQ"
      }
    },
    {
      "cell_type": "code",
      "source": [
        "# what map does is?\n",
        "# It uses a function on iterables.\n",
        "# it takes a function and run it over the iterables.\n",
        "#what is iterables?\n",
        "# -- collections\n",
        "#note:- Functions are the first class objects -- means one function can act as argument for another function\n",
        "#syntax for MAP\n",
        "#-- map = (function,iterable)\n",
        "\n",
        "girls = [\"Ellyse\",'Perry',\"Eve\"]\n",
        "# find the length of each item\n",
        "\n",
        "x = [ len(x) for x in girls]\n",
        "print(x)"
      ],
      "metadata": {
        "id": "9t_LwuT0SKaX"
      },
      "execution_count": null,
      "outputs": []
    },
    {
      "cell_type": "code",
      "source": [
        "# using map fun\n",
        "girls = [\"Ellyse\",'Perry',\"Eve\"]\n",
        "x = list(map(len,girls))\n",
        "print(x)\n",
        "# before you are applying the map() it is our decision whether you want list or tuple"
      ],
      "metadata": {
        "colab": {
          "base_uri": "https://localhost:8080/"
        },
        "id": "kCGZDNVXSKWJ",
        "outputId": "8f2eeb7d-9d4c-4045-9394-e9cef81b1327"
      },
      "execution_count": null,
      "outputs": [
        {
          "output_type": "stream",
          "name": "stdout",
          "text": [
            "[6, 5, 3]\n"
          ]
        }
      ]
    },
    {
      "cell_type": "code",
      "source": [
        "def fun(x):\n",
        "  return x\n",
        "print(fun(\"Perry\"))\n"
      ],
      "metadata": {
        "id": "KIufPnanSKSo"
      },
      "execution_count": null,
      "outputs": []
    },
    {
      "cell_type": "code",
      "source": [
        "def fun(x):\n",
        "  return x\n",
        "print(fun(\"Perry\"))\n",
        "girls = [\"Ellyse\"]\n",
        "y = tuple(map(fun,girls))\n",
        "print(y)"
      ],
      "metadata": {
        "colab": {
          "base_uri": "https://localhost:8080/"
        },
        "id": "lFuX4GtSSKPw",
        "outputId": "d566cc6f-3464-474d-f3cc-198c1cefa0d4"
      },
      "execution_count": null,
      "outputs": [
        {
          "output_type": "stream",
          "name": "stdout",
          "text": [
            "Perry\n",
            "('Ellyse',)\n"
          ]
        }
      ]
    },
    {
      "cell_type": "code",
      "source": [
        "# when we can use map()?\n",
        "u  = input()\n",
        "print(u)\n",
        "# split the input\n",
        "v = input().split()"
      ],
      "metadata": {
        "colab": {
          "base_uri": "https://localhost:8080/"
        },
        "id": "7V4yxe7ZSKM_",
        "outputId": "acf1affa-9a67-41f0-c074-96f3949e3c36"
      },
      "execution_count": null,
      "outputs": [
        {
          "name": "stdout",
          "output_type": "stream",
          "text": [
            "man\n",
            "man\n",
            "manna\n"
          ]
        }
      ]
    },
    {
      "cell_type": "code",
      "source": [
        "# convert into integer ?\n",
        "#1.by using for loop\n",
        "h = [10,90,98,9]\n",
        "for x in h:\n",
        "  print(int(x),sep = \" \")"
      ],
      "metadata": {
        "colab": {
          "base_uri": "https://localhost:8080/"
        },
        "id": "eb1OM9ZjSKJ1",
        "outputId": "28595b42-aa43-45b8-89ee-c17e95bd2578"
      },
      "execution_count": null,
      "outputs": [
        {
          "output_type": "stream",
          "name": "stdout",
          "text": [
            "10\n",
            "90\n",
            "98\n",
            "9\n"
          ]
        }
      ]
    },
    {
      "cell_type": "code",
      "source": [
        "#2.using map\n",
        "user = input().split()\n",
        "n = tuple(map(int,user))\n",
        "print(n)\n",
        "# if you want to data type for each and every type in a collection -- by using index position\n",
        "print(type(n[0]))"
      ],
      "metadata": {
        "colab": {
          "base_uri": "https://localhost:8080/"
        },
        "id": "D_lxU9jzSKG5",
        "outputId": "88c3e409-225c-43a4-eea0-c56495111592"
      },
      "execution_count": null,
      "outputs": [
        {
          "output_type": "stream",
          "name": "stdout",
          "text": [
            "2\n",
            "(2,)\n",
            "<class 'int'>\n"
          ]
        }
      ]
    },
    {
      "cell_type": "code",
      "source": [
        "# how can i print the 10 20 30 40 50 60 in double\n",
        "n = (10,20,30,40,50)\n",
        "s = tuple(map(lambda a : a**2,n))\n",
        "print(s)"
      ],
      "metadata": {
        "colab": {
          "base_uri": "https://localhost:8080/"
        },
        "id": "59dn1kJvSKD5",
        "outputId": "2d71b73b-7390-4a40-b0a9-9fcfd6e90b60"
      },
      "execution_count": null,
      "outputs": [
        {
          "output_type": "stream",
          "name": "stdout",
          "text": [
            "(100, 400, 900, 1600, 2500)\n"
          ]
        }
      ]
    },
    {
      "cell_type": "code",
      "source": [
        "# write a program to print factorila of 5\n",
        "fact = 1\n",
        "for i in range(1,6):\n",
        "  fact = fact*i\n",
        "print(fact)"
      ],
      "metadata": {
        "colab": {
          "base_uri": "https://localhost:8080/"
        },
        "id": "3vyqJOLETUWb",
        "outputId": "b9e45cca-e9b9-482a-d540-f3d130979313"
      },
      "execution_count": null,
      "outputs": [
        {
          "output_type": "stream",
          "name": "stdout",
          "text": [
            "120\n"
          ]
        }
      ]
    },
    {
      "cell_type": "code",
      "source": [
        "def fact(n):\n",
        "  if n == 0:\n",
        "    return 1\n",
        "  else:\n",
        "    return n*fact(n-1)\n",
        "print(fact(5))\n"
      ],
      "metadata": {
        "colab": {
          "base_uri": "https://localhost:8080/"
        },
        "id": "A_hTDtqfTWMT",
        "outputId": "0d926d0d-a9ae-4531-c770-fcf92be94da5"
      },
      "execution_count": null,
      "outputs": [
        {
          "output_type": "stream",
          "name": "stdout",
          "text": [
            "120\n"
          ]
        }
      ]
    },
    {
      "cell_type": "markdown",
      "source": [
        "-----------------------10 -06-2024-----------------------"
      ],
      "metadata": {
        "id": "AmW35BvTT72r"
      }
    },
    {
      "cell_type": "markdown",
      "source": [
        "Filter - Function"
      ],
      "metadata": {
        "id": "YQNOahITUC7q"
      }
    },
    {
      "cell_type": "code",
      "source": [
        "#filter(function,iterables)\n",
        "age = [12,15,16,18,45,21,18,17,56,23,35,15,8,10]\n",
        "#print age of adults ina new list.\n",
        "#create a function to check age of adults from the above list\n",
        "def adult(x):\n",
        "  if x >= 18:\n",
        "    return True\n",
        "  else:\n",
        "    return False\n",
        "#print(adult(18))\n",
        "\n",
        "#run this function in above list \"age\"\n",
        "a = list(map(adult,age))\n",
        "print(a)\n",
        "\n",
        "f1 = list(filter(adult,age))\n",
        "print(f1)\n"
      ],
      "metadata": {
        "colab": {
          "base_uri": "https://localhost:8080/"
        },
        "id": "PjLQ6F1uUBBq",
        "outputId": "57d71cb6-ae21-45dd-b7be-d3301fc93676"
      },
      "execution_count": null,
      "outputs": [
        {
          "output_type": "stream",
          "name": "stdout",
          "text": [
            "[False, False, False, True, True, True, True, False, True, True, True, False, False, False]\n",
            "[18, 45, 21, 18, 56, 23, 35]\n"
          ]
        }
      ]
    },
    {
      "cell_type": "code",
      "source": [
        "#create a function to check age of adults from the above list\n",
        "f1 = list(filter(adult,age))\n",
        "print(f1)"
      ],
      "metadata": {
        "colab": {
          "base_uri": "https://localhost:8080/"
        },
        "id": "7KDXov7fUKHr",
        "outputId": "d880c15f-b1da-4428-af3c-3dba0cf51abf"
      },
      "execution_count": null,
      "outputs": [
        {
          "output_type": "stream",
          "name": "stdout",
          "text": [
            "[18, 45, 21, 18, 56, 23, 35]\n"
          ]
        }
      ]
    },
    {
      "cell_type": "code",
      "source": [
        "\"\"\"note:- filter basically filters all your orginal collections that returns true or false,\n",
        " any value that comes out to be true it will be stored as a list of items\"\"\"\n",
        "\n",
        "def adult(x):\n",
        "  if x >= 18:\n",
        "    return True\n",
        "#print(adult(18))\n",
        "\n",
        "f1 = list(filter(adult,age))\n",
        "print(f1)"
      ],
      "metadata": {
        "colab": {
          "base_uri": "https://localhost:8080/"
        },
        "id": "EJnXybNeUKFJ",
        "outputId": "6fc0464b-bd4f-42cc-e6d6-5e7f7e0c9e2b"
      },
      "execution_count": null,
      "outputs": [
        {
          "output_type": "stream",
          "name": "stdout",
          "text": [
            "[18, 45, 21, 18, 56, 23, 35]\n"
          ]
        }
      ]
    },
    {
      "cell_type": "code",
      "source": [
        "def adult(x):\n",
        "    return x >= 18\n",
        "#print(adult(18))\n",
        "\n",
        "f1 = list(filter(adult,age))\n",
        "print(f1)"
      ],
      "metadata": {
        "colab": {
          "base_uri": "https://localhost:8080/"
        },
        "id": "r8XKermTUKC_",
        "outputId": "39aa0cfa-4b21-43cb-cea4-e63f07911efe"
      },
      "execution_count": null,
      "outputs": [
        {
          "output_type": "stream",
          "name": "stdout",
          "text": [
            "[18, 45, 21, 18, 56, 23, 35]\n"
          ]
        }
      ]
    },
    {
      "cell_type": "code",
      "source": [
        "age = [12,15,16,18,45,21,18,17,56,23,35,15,8,10]\n",
        "f2 = list(filter(lambda a: a >= 18, age))\n",
        "print(f2)"
      ],
      "metadata": {
        "colab": {
          "base_uri": "https://localhost:8080/"
        },
        "id": "qY3hDq76UKA5",
        "outputId": "9453941d-de27-4f9c-fc0f-a844e7eeeb8a"
      },
      "execution_count": null,
      "outputs": [
        {
          "output_type": "stream",
          "name": "stdout",
          "text": [
            "[18, 45, 21, 18, 56, 23, 35]\n"
          ]
        }
      ]
    },
    {
      "cell_type": "code",
      "source": [
        "#print the age between 18 t0 30\n",
        "f3 = list(filter(lambda a:  18 <= a <= 30, age))\n",
        "print(f3)"
      ],
      "metadata": {
        "colab": {
          "base_uri": "https://localhost:8080/"
        },
        "id": "E90ArCSfUJ9z",
        "outputId": "d17e2c7b-b8d5-4594-81db-4c1c36534d44"
      },
      "execution_count": null,
      "outputs": [
        {
          "output_type": "stream",
          "name": "stdout",
          "text": [
            "[18, 21, 18, 23]\n"
          ]
        }
      ]
    },
    {
      "cell_type": "code",
      "source": [
        "f4 = list(filter(lambda a: a >= 18 and a <= 30, age))\n",
        "print(f3)"
      ],
      "metadata": {
        "colab": {
          "base_uri": "https://localhost:8080/"
        },
        "id": "jafJIzY_UJ5z",
        "outputId": "eb99af9e-f36a-4b83-83e2-0eb44ce2d922"
      },
      "execution_count": null,
      "outputs": [
        {
          "output_type": "stream",
          "name": "stdout",
          "text": [
            "[18, 21, 18, 23]\n"
          ]
        }
      ]
    },
    {
      "cell_type": "code",
      "source": [
        "age = [12,15,16,18,45,21,18,17,56,23,35,15,8,10]\n",
        "#sort the above list?\n",
        "age.sort()\n",
        "print(age)"
      ],
      "metadata": {
        "colab": {
          "base_uri": "https://localhost:8080/"
        },
        "id": "c8O2mJJ3UJ2z",
        "outputId": "6ba2a773-4b3a-4bf8-df9e-8e7e8b2907a7"
      },
      "execution_count": null,
      "outputs": [
        {
          "output_type": "stream",
          "name": "stdout",
          "text": [
            "[8, 10, 12, 15, 15, 16, 17, 18, 18, 21, 23, 35, 45, 56]\n"
          ]
        }
      ]
    },
    {
      "cell_type": "code",
      "source": [
        "#print in descending order?\n",
        "age = [12,15,16,18,45,21,18,17,56,23,35,15,8,10]\n",
        "#sort the above list?\n",
        "age.sort(reverse = True)\n",
        "print(age)"
      ],
      "metadata": {
        "colab": {
          "base_uri": "https://localhost:8080/"
        },
        "id": "rtKanawwUJ0R",
        "outputId": "996669ff-cdb8-444c-e2a7-7a52303c4111"
      },
      "execution_count": null,
      "outputs": [
        {
          "output_type": "stream",
          "name": "stdout",
          "text": [
            "[56, 45, 35, 23, 21, 18, 18, 17, 16, 15, 15, 12, 10, 8]\n"
          ]
        }
      ]
    },
    {
      "cell_type": "markdown",
      "source": [
        "Classes and  Objects"
      ],
      "metadata": {
        "id": "x8qVJtXfUWu4"
      }
    },
    {
      "cell_type": "code",
      "source": [
        "x = \"hello\"\n",
        "print(dir(x))"
      ],
      "metadata": {
        "id": "pocE1is7UJyW"
      },
      "execution_count": null,
      "outputs": []
    },
    {
      "cell_type": "code",
      "source": [
        "#Note: In python we can create our own clases and objctes\n",
        "#why we create classes and objects?\n",
        "#how can you create a class?\n",
        "# use keyword = clas\n",
        "class customer:\n",
        "  pass\n",
        "\n",
        "\n",
        "\n",
        "x = \"hello\"\n",
        "x = 10\n",
        "x = 20.4\n",
        "print(type(x))\n",
        "\n",
        "\n"
      ],
      "metadata": {
        "colab": {
          "base_uri": "https://localhost:8080/"
        },
        "id": "eC2yr3R7UJt7",
        "outputId": "ce3f0795-de56-4232-f259-dd453dcd6278"
      },
      "execution_count": null,
      "outputs": [
        {
          "output_type": "stream",
          "name": "stdout",
          "text": [
            "<class 'float'>\n"
          ]
        }
      ]
    },
    {
      "cell_type": "code",
      "source": [
        "class customer:\n",
        "  pass\n",
        "# create an object\n",
        "c1 = cutomer()\n",
        "print(c1)\n",
        "# when create user class and objects-- stored and comming from main file\n",
        "\n"
      ],
      "metadata": {
        "id": "pVA0ntW5miPH"
      },
      "execution_count": null,
      "outputs": []
    },
    {
      "cell_type": "code",
      "source": [
        "# every attributes 2 categories\n",
        "#1. class attribute -->\n",
        "# --> Means come from classes and applicable to any any object\n",
        "\n",
        "\n",
        "\n",
        "# 2. object Attribute\n",
        "# --> Means unique object or information that can be applicable to particular object only"
      ],
      "metadata": {
        "id": "SbmCxRiTnrH5"
      },
      "execution_count": null,
      "outputs": []
    },
    {
      "cell_type": "code",
      "source": [
        "class Customer:\n",
        "  print(\"Hello welcome to\")\n",
        "  Bank_name = \"UNION\"\n",
        "  branch = \"Kovur\"\n",
        "  state = \"AP\"\n",
        "  IFSC = \"UBIN0803332\"\n",
        "\n",
        "# create a object\n",
        "c1 = Customer()\n",
        "c2 = Customer()\n",
        "c3 = Customer()\n",
        "print(c3.Bank_name)\n",
        "print(c3.branch)\n",
        "print(c3.state)\n",
        "print(c3.IFSC)\n"
      ],
      "metadata": {
        "colab": {
          "base_uri": "https://localhost:8080/"
        },
        "id": "AX5UxNWtqHb0",
        "outputId": "4a24e494-f2d1-4f38-ea27-41795d791a84"
      },
      "execution_count": null,
      "outputs": [
        {
          "output_type": "stream",
          "name": "stdout",
          "text": [
            "Hello welcome to\n",
            "UNION\n",
            "Kovur\n",
            "AP\n",
            "UBIN0803332\n"
          ]
        }
      ]
    },
    {
      "cell_type": "code",
      "source": [
        "# object --is an instance of class\n",
        "# creating a function inside a class is called method"
      ],
      "metadata": {
        "id": "2QQbBfXerTeR"
      },
      "execution_count": null,
      "outputs": []
    },
    {
      "cell_type": "code",
      "source": [
        "# what is self?\n",
        "#--> It is an extra parameter in methods definition\n",
        "# --> when we create the methods we need to pass the self\n",
        "# --> self act as pointer / reference to access the object"
      ],
      "metadata": {
        "id": "aTh2PR6GuFjx"
      },
      "execution_count": null,
      "outputs": []
    },
    {
      "cell_type": "code",
      "source": [
        "class Customer:\n",
        "  Bank_name = \"UNION\"\n",
        "\n",
        "  def welcome(self):\n",
        "    print(\"Hello welcome to\")\n",
        "c1 = Customer()\n",
        "c1.welcome()"
      ],
      "metadata": {
        "colab": {
          "base_uri": "https://localhost:8080/"
        },
        "id": "uKeQINPRvmYh",
        "outputId": "81af055a-29d9-4409-f67b-4f2506bca40d"
      },
      "execution_count": null,
      "outputs": [
        {
          "output_type": "stream",
          "name": "stdout",
          "text": [
            "Hello welcome to\n"
          ]
        }
      ]
    },
    {
      "cell_type": "code",
      "source": [
        "class Customer:\n",
        "  Bank_name = \"UNION Bank\"\n",
        "  branch = \"Kovur\"\n",
        "  state = \"AP\"\n",
        "\n",
        "  def wel(self):\n",
        "    # attributes passed with self when using class attributes\n",
        "    print(f\"Hello Welcome to the {self.Bank_name}\") # self includes when arguments are not passed to this method\n",
        "\n",
        "\n",
        "x = Customer()\n",
        "x.wel()\n",
        "print(x.Bank_name)"
      ],
      "metadata": {
        "colab": {
          "base_uri": "https://localhost:8080/"
        },
        "id": "IXU2_m3sjRtQ",
        "outputId": "ed85586c-d39f-4af4-8fd5-1c2019890291"
      },
      "execution_count": null,
      "outputs": [
        {
          "output_type": "stream",
          "name": "stdout",
          "text": [
            "Hello Welcome to the UNION Bank\n",
            "UNION Bank\n"
          ]
        }
      ]
    },
    {
      "cell_type": "code",
      "source": [
        "# object attributes : - unique attributes\n",
        "# How do i mention this unique properties\n",
        "class Customer:\n",
        "  Bank_name = \"UNION Bank\"\n",
        "  branch = \"Kovur\"\n",
        "  state = \"AP\"\n",
        "\n",
        "  def wel(self,name):\n",
        "    # attributes passed with self when using class attributes\n",
        "    print(f\"Hello Welcome {name}\")\n",
        "x = Customer()\n",
        "x.wel(\"Venkey\")"
      ],
      "metadata": {
        "colab": {
          "base_uri": "https://localhost:8080/"
        },
        "id": "ppg8aWTuyD2i",
        "outputId": "7cfb4169-0b31-41a4-c77e-90941e53ad95"
      },
      "execution_count": null,
      "outputs": [
        {
          "output_type": "stream",
          "name": "stdout",
          "text": [
            "Hello Welcome Venkey\n"
          ]
        }
      ]
    },
    {
      "cell_type": "code",
      "source": [
        "class student():\n",
        "  pass\n",
        "c = student()\n",
        "# Note :- even we dont write anything in brackets theirs a function which runs in the background\n",
        "# Special Function :- A function with starts with double __(double underscore and ends with same double underscire)\n",
        "# when you create object by default it runs with __init__ initialization method"
      ],
      "metadata": {
        "colab": {
          "base_uri": "https://localhost:8080/"
        },
        "id": "jSCVthG0y8qN",
        "outputId": "05ec4be5-d169-43e3-cf68-cf049b9b8d29"
      },
      "execution_count": null,
      "outputs": [
        {
          "output_type": "stream",
          "name": "stdout",
          "text": [
            "This is running\n"
          ]
        }
      ]
    },
    {
      "cell_type": "code",
      "source": [
        "class student():\n",
        "  def __init__(self):\n",
        "    print(\"This is running\")\n",
        "\n",
        "  pass\n",
        "c = student()"
      ],
      "metadata": {
        "id": "Qjyw3Zgn1GBi"
      },
      "execution_count": null,
      "outputs": []
    },
    {
      "cell_type": "code",
      "source": [
        "# Another way to prove calling an object\n",
        "class student():\n",
        "  def __init__(self,name,age,initial):\n",
        "    print(f\"Helo,{name} !you have started your account with {initial} \")\n",
        "\n",
        "c = student(\"Ellyse\",30,9000)"
      ],
      "metadata": {
        "colab": {
          "base_uri": "https://localhost:8080/"
        },
        "id": "1wC3La001LJT",
        "outputId": "1e350162-6e43-4c3a-8528-d1259a1be9b0"
      },
      "execution_count": null,
      "outputs": [
        {
          "output_type": "stream",
          "name": "stdout",
          "text": [
            "Helo,Ellyse !you have started your account with 9000 \n"
          ]
        }
      ]
    },
    {
      "cell_type": "code",
      "source": [
        "# i have to access the object attributes\n",
        "# A) --> object.attribute_name\n",
        "class student():\n",
        "  def __init__(self,name,age,initial):\n",
        "    self.name = name\n",
        "    self.age = age\n",
        "    self.initial = initial\n",
        "    print(f\"Helo,{name} !you have started your account with {initial} \")\n",
        "\n",
        "c1 = student(\"Ellyse\",30,9000)\n",
        "# to access the object attributes\n",
        "print(c1.name)\n"
      ],
      "metadata": {
        "colab": {
          "base_uri": "https://localhost:8080/"
        },
        "id": "dxqNiaVL3ByY",
        "outputId": "29767cb8-2cd8-409b-98c5-d4ab88b771ce"
      },
      "execution_count": null,
      "outputs": [
        {
          "output_type": "stream",
          "name": "stdout",
          "text": [
            "Helo,Ellyse !you have started your account with 9000 \n",
            "Ellyse\n"
          ]
        }
      ]
    },
    {
      "cell_type": "code",
      "source": [
        "class student():\n",
        "\n",
        "  Bank_name = \"UNION Bank\"\n",
        "  branch = \"Kovur\"\n",
        "  state = \"AP\"\n",
        "\n",
        "  def __init__(self,name,age,initial,):\n",
        "    self.name = name\n",
        "    self.age = age\n",
        "    self.initial = initial\n",
        "    self.welcome() # instead of calling separate we can call inside the function\n",
        "\n",
        "  def welcome(self):\n",
        "    print(f\"Helo, {self.name} ! you have started your account in {self.Bank_name} with Rs.{self.initial} at {self.branch} in {self.state} \")\n",
        "    # print(f\"Your current balance is {self.initial}\\n\")\n",
        "\n",
        "  def deposit_balance(self,amount):\n",
        "    self.initial  += amount\n",
        "    print(\"Deposit completed \")\n",
        "    print(f\"Updated balance is Rs.{self.initial}\")\n",
        "\n",
        "  def check_balance(self):\n",
        "      print(f\"Your current balance is Rs.{self.initial}\")\n",
        "\n",
        "  def withdraw_amount(self,wd_amount):\n",
        "    if (wd_amount<=self.initial):\n",
        "      self.initial -= wd_amount\n",
        "      print(\"Transaction completed\")\n",
        "      print(f\"Updated balance is Rs.{self.initial}\")\n",
        "    else:\n",
        "      print(\"Check the balance\")\n",
        "\n",
        "\n",
        "\n",
        "c1 = student(\"Eve\",30,10000)\n",
        "# to access the object attributes\n",
        "\n",
        "# withdraw 5k from account\n",
        "#c1.withdraw_amount(5000)\n",
        "\n",
        "# deposit 50k\n",
        "#c1.deposit_balance(5000)\n",
        "#c1.check_balance()\n",
        "#print(c1.initial)\n",
        "\n",
        "\n",
        "\n",
        "\n",
        "\n"
      ],
      "metadata": {
        "colab": {
          "base_uri": "https://localhost:8080/"
        },
        "id": "LdurC1E63ZVG",
        "outputId": "39085fd9-67fd-4d7c-87d4-ba1349ff7455"
      },
      "execution_count": null,
      "outputs": [
        {
          "output_type": "stream",
          "name": "stdout",
          "text": [
            "Helo, Eve ! you have started your account in UNION Bank with Rs.10000 at Kovur in AP \n"
          ]
        }
      ]
    },
    {
      "cell_type": "markdown",
      "source": [
        "12 - 06 - 2024"
      ],
      "metadata": {
        "id": "8ATzL6vaskva"
      }
    },
    {
      "cell_type": "markdown",
      "source": [
        "File Handling"
      ],
      "metadata": {
        "id": "g0ukT0sBsyZe"
      }
    },
    {
      "cell_type": "code",
      "source": [
        "# What is File Handling in python?\n",
        "# Handling certain files which is not python file\n",
        "# eg :- pdf,excel\n",
        "# to handle the file -- open package --\n",
        "# open(file_name,mode)"
      ],
      "metadata": {
        "id": "f0ih6c2d91FO"
      },
      "execution_count": null,
      "outputs": []
    },
    {
      "cell_type": "code",
      "source": [
        "# How many types of modes in python for file handling\n",
        "# -- 4 modes --> r,w,a,x\n"
      ],
      "metadata": {
        "id": "eBCgLMEEt21p"
      },
      "execution_count": null,
      "outputs": []
    },
    {
      "cell_type": "code",
      "source": [
        "# what is x mode?\n",
        "# x mode is used to create a file\n",
        "f = open(\"trail.txt\",\"x\")\n",
        "# In the \"X\" mode if the file is already exist then what happen?\n",
        "# It will rise an error"
      ],
      "metadata": {
        "id": "-4QOjEY8uNsj"
      },
      "execution_count": null,
      "outputs": []
    },
    {
      "cell_type": "code",
      "source": [
        "# w:(write over write)\n",
        "f = open(\"trail.txt\",\"w\")\n",
        "f.write(\"Hello Good Morning ! This is first message in write mode\")\n",
        "f.close()\n",
        "# over write\n",
        "f = open(\"trail.txt\",\"w\")\n",
        "f.write(\" I am writing overwrite Message\")\n",
        "f.close()\n"
      ],
      "metadata": {
        "id": "puXQADWsv1Gu"
      },
      "execution_count": null,
      "outputs": []
    },
    {
      "cell_type": "code",
      "source": [
        "# a: append the data at the end of the file\n",
        "f = open(\"trail.txt\",\"a\")\n",
        "f.write(\" I am writing overwrite Message\")\n",
        "f.close()"
      ],
      "metadata": {
        "id": "bVqpiYQ-yAGF"
      },
      "execution_count": null,
      "outputs": []
    },
    {
      "cell_type": "code",
      "source": [
        "# r: read mode\n",
        "# what is default mode when you open a file?\n",
        "#read mode\n",
        "f = open(\"trail.txt\")\n",
        "print(f.read())\n",
        "f.close()"
      ],
      "metadata": {
        "colab": {
          "base_uri": "https://localhost:8080/"
        },
        "id": "Gyc3X7kcyfB2",
        "outputId": "99a99d1b-0756-4d13-8c1c-cbeaf5e25e16"
      },
      "execution_count": null,
      "outputs": [
        {
          "output_type": "stream",
          "name": "stdout",
          "text": [
            " I am writing overwrite Message I am writing overwrite Message\n"
          ]
        }
      ]
    },
    {
      "cell_type": "code",
      "source": [
        "# how to read the excel file?\n",
        "# to read the excel file in python we require a package\n",
        "# \"xlrd\" is a package we are going to use\n",
        "f = open(\"/content/VLOOKUP Tricks Practice File (1).xlsx\")\n",
        "# why we are giving double dackward salsh ?\n",
        "print(f.read())\n",
        "f.close()\n",
        "# to read we need to import xlrd\n"
      ],
      "metadata": {
        "id": "lnC7_t-ezBHb"
      },
      "execution_count": null,
      "outputs": []
    },
    {
      "cell_type": "code",
      "source": [
        "# when you want to deal with excel files we need to import \"xlrd\"\n",
        "\n",
        "import xlrd\n",
        "wb = xlrd.open_workbook(\"/content/VLOOKUP Tricks Practice File (1).xls\")\n",
        "print(wb)\n",
        "print(type(wb))"
      ],
      "metadata": {
        "colab": {
          "base_uri": "https://localhost:8080/"
        },
        "id": "ILePL5oG1MV-",
        "outputId": "0c2f1cff-7576-4978-be9a-f2c292fd47e0"
      },
      "execution_count": null,
      "outputs": [
        {
          "output_type": "stream",
          "name": "stdout",
          "text": [
            "<xlrd.book.Book object at 0x7a5504a07b20>\n",
            "<class 'xlrd.book.Book'>\n"
          ]
        }
      ]
    },
    {
      "cell_type": "code",
      "source": [
        "# I want to access the sheet\n",
        "sheet = wb.sheet_by_index(1)\n",
        "print(sheet)"
      ],
      "metadata": {
        "colab": {
          "base_uri": "https://localhost:8080/"
        },
        "id": "nN2hsG6P2Ajw",
        "outputId": "ab1db235-57b1-48cc-99a7-3f9de6d56030"
      },
      "execution_count": null,
      "outputs": [
        {
          "output_type": "stream",
          "name": "stdout",
          "text": [
            "Sheet  1:<Sheet1>\n"
          ]
        }
      ]
    },
    {
      "cell_type": "code",
      "source": [
        "# i want to see how many rows and columns in sheet by using python\n",
        "print(sheet.nrows)\n",
        "print(sheet.ncols)\n"
      ],
      "metadata": {
        "colab": {
          "base_uri": "https://localhost:8080/"
        },
        "id": "UkFNx9fj2saU",
        "outputId": "29300fa5-3881-4e95-cabc-2a44e9f9fe29"
      },
      "execution_count": null,
      "outputs": [
        {
          "output_type": "stream",
          "name": "stdout",
          "text": [
            "25\n",
            "6\n"
          ]
        }
      ]
    },
    {
      "cell_type": "code",
      "source": [
        "# read the particular row\n",
        "print(sheet.row(1))"
      ],
      "metadata": {
        "colab": {
          "base_uri": "https://localhost:8080/"
        },
        "id": "Gku0S6uX3Xma",
        "outputId": "0d84cf62-0041-4845-8564-22f39dd9b938"
      },
      "execution_count": null,
      "outputs": [
        {
          "output_type": "stream",
          "name": "stdout",
          "text": [
            "[number:12061.0, text:'KUSUMA', number:94555.0, number:81566.0, number:85267.0, empty:'']\n"
          ]
        }
      ]
    },
    {
      "cell_type": "code",
      "source": [
        "# read the particular column,row\n",
        "print(sheet.cell(1,1))"
      ],
      "metadata": {
        "colab": {
          "base_uri": "https://localhost:8080/"
        },
        "id": "mneJjUv24nvN",
        "outputId": "2c4bd470-fb0d-4855-eb24-a20ffaa03341"
      },
      "execution_count": null,
      "outputs": [
        {
          "output_type": "stream",
          "name": "stdout",
          "text": [
            "text:'KUSUMA'\n"
          ]
        }
      ]
    },
    {
      "cell_type": "code",
      "source": [
        "# how can i read entire rows and entire columns?\n",
        "print(sheet.row_values(1))\n",
        "print(sheet.col_values(1))"
      ],
      "metadata": {
        "colab": {
          "base_uri": "https://localhost:8080/"
        },
        "id": "-VyHT0uL4z6T",
        "outputId": "51684dd7-44f6-4467-d126-4e0ab6725be9"
      },
      "execution_count": null,
      "outputs": [
        {
          "output_type": "stream",
          "name": "stdout",
          "text": [
            "[12061.0, 'KUSUMA', 94555.0, 81566.0, 85267.0, '']\n",
            "[' Name', 'KUSUMA', 'MURTHI', 'SANKER', 'PRASAD', 'GOPI', 'SANTHI', 'KISHORE', 'NAVEEN', 'MAHESH', 'RAVI', 'TEJA', '', '', '', '', '', '', 'Model', 'L-070', 'AP-456', 'LV-099', 'NO-332', 'MI-223', 'SO-663']\n"
          ]
        }
      ]
    },
    {
      "cell_type": "code",
      "source": [
        "# extract all the data.\n",
        "for i in range(sheet.nrows):\n",
        "  print(sheet.row_values(i))"
      ],
      "metadata": {
        "colab": {
          "base_uri": "https://localhost:8080/"
        },
        "id": "g5V6JpYd5eMA",
        "outputId": "09792f64-6abd-469c-c912-c79ce0e0ecce"
      },
      "execution_count": null,
      "outputs": [
        {
          "output_type": "stream",
          "name": "stdout",
          "text": [
            "['Emp Id', ' Name', 2019.0, 2020.0, 2021.0, 'Product']\n",
            "[12061.0, 'KUSUMA', 94555.0, 81566.0, 85267.0, '']\n",
            "[12082.0, 'MURTHI', 93108.0, 46887.0, 87124.0, '']\n",
            "[12058.0, 'SANKER', 86751.0, 88236.0, 59143.0, '']\n",
            "[12063.0, 'PRASAD', 94460.0, 66173.0, 68115.0, '']\n",
            "[12008.0, 'GOPI', 71844.0, 63802.0, 77645.0, '']\n",
            "[12011.0, 'SANTHI', 91727.0, 47053.0, 67301.0, '']\n",
            "[12050.0, 'KISHORE', 62099.0, 88834.0, 88322.0, '']\n",
            "[12039.0, 'NAVEEN', 93698.0, 59200.0, 58397.0, '']\n",
            "[12051.0, 'MAHESH', 48875.0, 84977.0, 56073.0, '']\n",
            "[12053.0, 'RAVI', 87028.0, 75724.0, 64563.0, '']\n",
            "[12076.0, 'TEJA', 87249.0, 51786.0, 50305.0, '']\n",
            "['', '', '', '', '', '']\n",
            "['', '', '', '', '', '']\n",
            "['', '', '', '', '', '']\n",
            "['', '', '', '', '', '']\n",
            "['', '', '', '', '', '']\n",
            "['', '', '', '', '', '']\n",
            "['Item Name', 'Model', 'Rate', '', '', '']\n",
            "['లెనోవా', 'L-070', '', '', '', '']\n",
            "['ఆపిల్', 'AP-456', '', '', '', '']\n",
            "['లావా', 'LV-099', '', '', '', '']\n",
            "['నోకియా', 'NO-332', '', '', '', '']\n",
            "['మైక్రోమేక్స్', 'MI-223', '', '', '', '']\n",
            "['సోనీ', 'SO-663', '', '', '', '']\n"
          ]
        }
      ]
    },
    {
      "cell_type": "code",
      "source": [
        "# append this data to entire list?\n",
        "new_data = [ sheet.row_values(x) for x in range(sheet.nrows)]\n",
        "print(new_data)"
      ],
      "metadata": {
        "colab": {
          "base_uri": "https://localhost:8080/"
        },
        "id": "ENYjVqTS5-yd",
        "outputId": "b00713e4-9a4d-40fe-be39-b2604475820e"
      },
      "execution_count": null,
      "outputs": [
        {
          "output_type": "stream",
          "name": "stdout",
          "text": [
            "[['Emp Id', ' Name', 2019.0, 2020.0, 2021.0, 'Product'], [12061.0, 'KUSUMA', 94555.0, 81566.0, 85267.0, ''], [12082.0, 'MURTHI', 93108.0, 46887.0, 87124.0, ''], [12058.0, 'SANKER', 86751.0, 88236.0, 59143.0, ''], [12063.0, 'PRASAD', 94460.0, 66173.0, 68115.0, ''], [12008.0, 'GOPI', 71844.0, 63802.0, 77645.0, ''], [12011.0, 'SANTHI', 91727.0, 47053.0, 67301.0, ''], [12050.0, 'KISHORE', 62099.0, 88834.0, 88322.0, ''], [12039.0, 'NAVEEN', 93698.0, 59200.0, 58397.0, ''], [12051.0, 'MAHESH', 48875.0, 84977.0, 56073.0, ''], [12053.0, 'RAVI', 87028.0, 75724.0, 64563.0, ''], [12076.0, 'TEJA', 87249.0, 51786.0, 50305.0, ''], ['', '', '', '', '', ''], ['', '', '', '', '', ''], ['', '', '', '', '', ''], ['', '', '', '', '', ''], ['', '', '', '', '', ''], ['', '', '', '', '', ''], ['Item Name', 'Model', 'Rate', '', '', ''], ['లెనోవా', 'L-070', '', '', '', ''], ['ఆపిల్', 'AP-456', '', '', '', ''], ['లావా', 'LV-099', '', '', '', ''], ['నోకియా', 'NO-332', '', '', '', ''], ['మైక్రోమేక్స్', 'MI-223', '', '', '', ''], ['సోనీ', 'SO-663', '', '', '', '']]\n"
          ]
        }
      ]
    },
    {
      "cell_type": "markdown",
      "source": [
        "Iterators --"
      ],
      "metadata": {
        "id": "OwiuW2k9zwwx"
      }
    },
    {
      "cell_type": "code",
      "source": [
        "#What iterators will do?\n",
        "#-- whatever the largedata --it will break data into tinychunks\n",
        "# create a list that has numbers from 0 to infinite\n",
        "a = ['apple','banana','mango','pineapple']\n",
        "for x in a:\n",
        "  print(x)\n",
        "# x is created each and every element due to \"Iterator protocols\"\n",
        "# we are having 2 iterator protocols\n",
        "#1.--__iter__()\n",
        "#2.__next__()"
      ],
      "metadata": {
        "colab": {
          "base_uri": "https://localhost:8080/"
        },
        "id": "U2aI70iNyqhg",
        "outputId": "e4736685-91c5-438b-b54a-069ab64eaa38"
      },
      "execution_count": null,
      "outputs": [
        {
          "output_type": "stream",
          "name": "stdout",
          "text": [
            "apple\n",
            "banana\n",
            "mango\n",
            "pineapple\n"
          ]
        }
      ]
    },
    {
      "cell_type": "code",
      "source": [
        "a = ['apple','banana','mango','pineapple']\n",
        "x = iter(a)\n",
        "print(x)\n",
        "print(next(x))\n",
        "print(next(x))\n",
        "print(next(x))\n",
        "print(next(x))\n"
      ],
      "metadata": {
        "colab": {
          "base_uri": "https://localhost:8080/"
        },
        "id": "uEIXdh3tziQZ",
        "outputId": "5bf9c2bb-6620-4a51-cdaf-44d63b5c4909"
      },
      "execution_count": null,
      "outputs": [
        {
          "output_type": "stream",
          "name": "stdout",
          "text": [
            "<list_iterator object at 0x788960a0ec80>\n",
            "apple\n",
            "banana\n",
            "mango\n",
            "pineapple\n"
          ]
        }
      ]
    },
    {
      "cell_type": "code",
      "source": [
        "class Number:\n",
        "  def __iter__(self):\n",
        "    self.initial = 0\n",
        "    return self\n",
        "  def __next__(self):\n",
        "    x = self.initial\n",
        "    self.initial +=1\n",
        "    return x\n",
        "n = Number()\n",
        "x = iter(n)\n",
        "print(next(x))"
      ],
      "metadata": {
        "colab": {
          "base_uri": "https://localhost:8080/"
        },
        "id": "yidyKQDezjKA",
        "outputId": "550cd61b-9df6-428f-f5ee-98183081ced3"
      },
      "execution_count": null,
      "outputs": [
        {
          "output_type": "stream",
          "name": "stdout",
          "text": [
            "0\n"
          ]
        }
      ]
    },
    {
      "cell_type": "code",
      "source": [
        "#pickling :- it’s the process of converting a Python object into a byte stream to store it in a file/database,\n",
        "#             maintain program state across sessions, or transport data over the network.\n",
        "\n",
        "# why we need pickling ?\n",
        "# Pickle in Python is primarily used in serializing and deserializing a Python object structure\n",
        "# --> for the faster execution of data\n",
        "\n",
        "# serialization   --> Serialization is the process of converting a Python object into a byte stream\n",
        "#                    or a string representation that can be easily stored or transmitted\n",
        "#                 -->  pickle.dump() function is used to serialize the `data`\n",
        "\n",
        "# deserialization -->Deserialization is the process of reconstructing a serialized object from its serialized form.\n",
        "#                 -->  the pickle module provides the pickle.load() function to perform deserialization, often called \"unpickling.\"\n",
        "\n",
        "\n",
        "#  python pip :- is basically manager for packages or modules\n",
        "\n",
        "# what is package ?\n",
        "\n",
        "\"\"\"package is something basically that contains all files you need predefined codes in a file\"\"\"\n",
        "\n",
        "# what is a module\n",
        "# --> modules are basically code libraries which you can include your projects\n",
        "\n",
        "# --> imp packages -- 1.numpy 2.pandas 3.matplotlib 4.seaborn 5.tkinter 6. sci-kit 7. python_image_processing\n",
        "# 8. opencv 9.pendulum 10.movie pay 11.pyqt 12. py 32 13. py test\n",
        "\n",
        "# import camelcase\n",
        "# x = camelcase.CamelCase()\n",
        "# a = 'hi there is a message to check if the letters are capitalise'\n",
        "# # print(a.capitalize())\n",
        "# print(x.hump(a))"
      ],
      "metadata": {
        "id": "sCBgD3v49QiG"
      },
      "execution_count": null,
      "outputs": []
    }
  ]
}